{
 "cells": [
  {
   "cell_type": "code",
   "execution_count": 3,
   "metadata": {},
   "outputs": [],
   "source": [
    "import pandas as pd\n",
    "import numpy as np\n",
    "import ast\n",
    "import json\n",
    "from pathlib import Path"
   ]
  },
  {
   "cell_type": "code",
   "execution_count": 4,
   "metadata": {},
   "outputs": [],
   "source": [
    "# Datasets\n",
    "\n",
    "doctors = pd.read_csv(Path('..') / 'Data' / 'sharp_medical_professionals.csv')\n",
    "diseases = pd.read_csv(Path('..') / 'Data' / 'diseases.csv')"
   ]
  },
  {
   "cell_type": "code",
   "execution_count": 5,
   "metadata": {},
   "outputs": [],
   "source": [
    "# Dictionary to convert diseases to specializations\n",
    "\n",
    "disease_to_specialization = {\n",
    "    'vertigo': 'neurology',\n",
    "    'aids': 'infectious disease',\n",
    "    'acne': 'dermatology',\n",
    "    'alcoholic hepatitis': 'hepatology',\n",
    "    'allergy': 'allergy and immunology',\n",
    "    'arthritis': 'rheumatology',\n",
    "    'bronchial asthma': 'pulmonology',\n",
    "    'cervical spondylosis': 'orthopedic surgery',\n",
    "    'chicken pox': 'infectious disease',\n",
    "    'chronic cholestasis': 'gastroenterology',\n",
    "    'common cold': 'general medicine',\n",
    "    'dengue': 'infectious disease',\n",
    "    'diabetes': 'endocrinology',\n",
    "    'dimorphic hemorrhoids(piles)': 'general surgery',\n",
    "    'drug reaction': 'allergy and immunology',\n",
    "    'fungal infection': 'infectious disease',\n",
    "    'gerd': 'gastroenterology',\n",
    "    'gastroenteritis': 'gastroenterology',\n",
    "    'heart attack': 'cardiology',\n",
    "    'hepatitis b': 'hepatology',\n",
    "    'hepatitis c': 'hepatology',\n",
    "    'hepatitis d': 'hepatology',\n",
    "    'hepatitis e': 'hepatology',\n",
    "    'hypertension': 'cardiology',\n",
    "    'hyperthyroidism': 'endocrinology',\n",
    "    'hypoglycemia': 'endocrinology',\n",
    "    'hypothyroidism': 'endocrinology',\n",
    "    'impetigo': 'dermatology',\n",
    "    'jaundice': 'hepatology',\n",
    "    'malaria': 'infectious disease',\n",
    "    'migraine': 'neurology',\n",
    "    'osteoarthritis': 'orthopedic surgery',\n",
    "    'paralysis (brain hemorrhage)': 'neurology',\n",
    "    'peptic ulcer disease': 'gastroenterology',\n",
    "    'pneumonia': 'pulmonology',\n",
    "    'psoriasis': 'dermatology',\n",
    "    'tuberculosis': 'infectious disease',\n",
    "    'typhoid': 'infectious disease',\n",
    "    'urinary tract infection': 'urology',\n",
    "    'varicose veins': 'vascular surgery',\n",
    "    'hepatitis a': 'hepatology'\n",
    "}\n"
   ]
  },
  {
   "cell_type": "code",
   "execution_count": 6,
   "metadata": {},
   "outputs": [],
   "source": [
    "# Clean specialties\n",
    "\n",
    "def convert_specialties(specialty):\n",
    "\n",
    "    specialty = ast.literal_eval(specialty)\n",
    "    return specialty"
   ]
  },
  {
   "cell_type": "code",
   "execution_count": 7,
   "metadata": {},
   "outputs": [],
   "source": [
    "# Calculates score for every doctor based on disease_inputs\n",
    "\n",
    "def specialties_to_scores(specialties, disease_inputs):\n",
    "\n",
    "    score = 0\n",
    "\n",
    "    for specialty in specialties:\n",
    "        specialty = specialty.lower()\n",
    "\n",
    "        for disease, probability in disease_inputs:\n",
    "            if specialty == disease_to_specialization[disease]:\n",
    "                score += probability\n",
    "\n",
    "    return score\n"
   ]
  },
  {
   "cell_type": "code",
   "execution_count": 13,
   "metadata": {},
   "outputs": [],
   "source": [
    "# Outputs a df with all of the doctors with positive scores (can get top three if necessary, maybe differentiate between them with star reviews)\n",
    "\n",
    "def calculate_recommendation(disease_inputs):\n",
    "\n",
    "    cleaned_specialties = doctors['Specialty'].transform(convert_specialties)\n",
    "    scores = cleaned_specialties.apply(lambda x: specialties_to_scores(x, disease_inputs))\n",
    "    new_df = doctors.assign(Score = scores)\n",
    "\n",
    "    only_positive_scores = new_df[new_df['Score'] > 0].sort_values('Score', ascending = False)\n",
    "    return only_positive_scores.drop('Unnamed: 0', axis=1).fillna(-1)\n",
    "\n",
    "# New df with scores"
   ]
  },
  {
   "cell_type": "code",
   "execution_count": 14,
   "metadata": {},
   "outputs": [
    {
     "data": {
      "text/plain": [
       "[{'Name': 'Joshua Minuto, MD',\n",
       "  'Location': \"['2020 Genesee Ave.']\",\n",
       "  'Specialty': \"['Infectious disease']\",\n",
       "  'Picture': 'https://images.ctfassets.net/pxcfulgsd9e2/4vtfSBGmp3LQhKtvjw2JIC/d0f2094db56d33c832190f5e281156e5/Placeholder_image.png?f=face&fit=fill&fm=webp&h=2792&q=35&w=2792',\n",
       "  'Phone Number': '[18586168091]',\n",
       "  'Rating': -1.0,\n",
       "  'Score': 0.15},\n",
       " {'Name': 'George Sakoulas, MD',\n",
       "  'Location': \"['2020 Genesee Ave.']\",\n",
       "  'Specialty': \"['Infectious disease']\",\n",
       "  'Picture': 'https://images.ctfassets.net/pxcfulgsd9e2/4vtfSBGmp3LQhKtvjw2JIC/d0f2094db56d33c832190f5e281156e5/Placeholder_image.png?f=face&fit=fill&fm=webp&h=2792&q=35&w=2792',\n",
       "  'Phone Number': '[18586168091]',\n",
       "  'Rating': -1.0,\n",
       "  'Score': 0.15},\n",
       " {'Name': 'Ariella Goldblatt, MD',\n",
       "  'Location': \"['2020 Genesee Ave.']\",\n",
       "  'Specialty': \"['Infectious disease']\",\n",
       "  'Picture': 'https://images.ctfassets.net/pxcfulgsd9e2/5BzmJVevvbOVUTjjvmcTmj/faeedea2733d883655355e1c604c661b/goldblatt_arilella_94519_2022.jpg?f=face&fit=fill&fm=webp&h=2792&q=35&w=2792',\n",
       "  'Phone Number': '[18586168091]',\n",
       "  'Rating': 4.9,\n",
       "  'Score': 0.15},\n",
       " {'Name': 'Norihiro Yogo, MD',\n",
       "  'Location': \"['2020 Genesee Ave.']\",\n",
       "  'Specialty': \"['Infectious disease']\",\n",
       "  'Picture': 'https://images.ctfassets.net/pxcfulgsd9e2/69LQXzvZgAV1PkReCBXzbL/99f7b16168c4bf4123cb8665ce66b242/yogo_norihiro_85179_2016.jpg?f=face&fit=fill&fm=webp&h=2792&q=35&w=2792',\n",
       "  'Phone Number': '[18586168091]',\n",
       "  'Rating': -1.0,\n",
       "  'Score': 0.15},\n",
       " {'Name': 'Gonzalo Ballon-Landa, MD',\n",
       "  'Location': \"['4136 Bachman Pl']\",\n",
       "  'Specialty': \"['Infectious disease']\",\n",
       "  'Picture': 'https://images.ctfassets.net/pxcfulgsd9e2/3S4moNyKRpzu697UKHYvGP/2e696d0f564da5462188dd08a0452a5d/ballon-landa_gonzalo_53275_2014.jpg?f=face&fit=fill&fm=webp&h=2792&q=35&w=2792',\n",
       "  'Phone Number': '[16192981443]',\n",
       "  'Rating': -1.0,\n",
       "  'Score': 0.15},\n",
       " {'Name': 'Michael Butera, MD',\n",
       "  'Location': \"['6699 Alvarado Rd']\",\n",
       "  'Specialty': \"['Infectious disease']\",\n",
       "  'Picture': 'https://images.ctfassets.net/pxcfulgsd9e2/4vtfSBGmp3LQhKtvjw2JIC/d0f2094db56d33c832190f5e281156e5/Placeholder_image.png?f=face&fit=fill&fm=webp&h=2792&q=35&w=2792',\n",
       "  'Phone Number': '[16194629010]',\n",
       "  'Rating': -1.0,\n",
       "  'Score': 0.15},\n",
       " {'Name': 'Braden Hale, MD',\n",
       "  'Location': '[]',\n",
       "  'Specialty': \"['Infectious disease']\",\n",
       "  'Picture': 'https://images.ctfassets.net/pxcfulgsd9e2/4vtfSBGmp3LQhKtvjw2JIC/d0f2094db56d33c832190f5e281156e5/Placeholder_image.png?f=face&fit=fill&fm=webp&h=2792&q=35&w=2792',\n",
       "  'Phone Number': '[]',\n",
       "  'Rating': -1.0,\n",
       "  'Score': 0.15},\n",
       " {'Name': 'Fadi Haddad, MD',\n",
       "  'Location': \"['8860 Center Dr']\",\n",
       "  'Specialty': \"['Infectious disease']\",\n",
       "  'Picture': 'https://images.ctfassets.net/pxcfulgsd9e2/3fh14onN1UxrLmlgZKEakf/9a6ecb49415fd0a063e0d9ece1cf5ff8/haddad_fadi_72694_2019.jpg?f=face&fit=fill&fm=webp&h=2792&q=35&w=2792',\n",
       "  'Phone Number': '[16193761904]',\n",
       "  'Rating': -1.0,\n",
       "  'Score': 0.15},\n",
       " {'Name': 'Nabil Baig, DO',\n",
       "  'Location': \"['6216 Brockton Avenue', '303 H St.', '131 Orange Avenue', '2436 Fenton St.', '463 N. Magnolia Ave.', '1594 S. Imperial Ave.', '488 E. Valley Parkway', '1180 N. Indian Canyon Drive', '675 Camino Del Los Mares']\",\n",
       "  'Specialty': \"['Gastroenterology', 'Hepatology', 'Internal medicine']\",\n",
       "  'Picture': 'https://images.ctfassets.net/pxcfulgsd9e2/4vtfSBGmp3LQhKtvjw2JIC/d0f2094db56d33c832190f5e281156e5/Placeholder_image.png?f=face&fit=fill&fm=webp&h=2792&q=35&w=2792',\n",
       "  'Phone Number': '[19512750900, 16195220399, 16195220399, 16195220399, 16195220399, 17603371000, 16195220399, 19512759000, 19494866002]',\n",
       "  'Rating': -1.0,\n",
       "  'Score': 0.1}]"
      ]
     },
     "execution_count": 14,
     "metadata": {},
     "output_type": "execute_result"
    }
   ],
   "source": [
    "# Test case\n",
    "diseases = [('pneumonia', .75), ('tuberculosis', .15), ('jaundice', .10)]\n",
    "calculate_recommendation(diseases).to_dict('records')"
   ]
  }
 ],
 "metadata": {
  "kernelspec": {
   "display_name": "Python 3",
   "language": "python",
   "name": "python3"
  },
  "language_info": {
   "codemirror_mode": {
    "name": "ipython",
    "version": 3
   },
   "file_extension": ".py",
   "mimetype": "text/x-python",
   "name": "python",
   "nbconvert_exporter": "python",
   "pygments_lexer": "ipython3",
   "version": "3.12.6"
  }
 },
 "nbformat": 4,
 "nbformat_minor": 2
}
