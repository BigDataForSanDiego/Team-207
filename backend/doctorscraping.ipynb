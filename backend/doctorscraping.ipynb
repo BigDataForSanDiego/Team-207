{
 "cells": [
  {
   "cell_type": "code",
   "execution_count": 1,
   "metadata": {},
   "outputs": [],
   "source": [
    "# import requests"
   ]
  },
  {
   "cell_type": "code",
   "execution_count": 8,
   "metadata": {},
   "outputs": [],
   "source": [
    "# from bs4 import BeautifulSoup"
   ]
  },
  {
   "cell_type": "code",
   "execution_count": 34,
   "metadata": {},
   "outputs": [],
   "source": [
    "# main_site = 'https://www.sharp.com/doctors'"
   ]
  },
  {
   "cell_type": "code",
   "execution_count": 35,
   "metadata": {},
   "outputs": [],
   "source": [
    "# r = requests.get(main_site)"
   ]
  },
  {
   "cell_type": "code",
   "execution_count": 16,
   "metadata": {},
   "outputs": [],
   "source": [
    "# soup = BeautifulSoup(r.text)"
   ]
  },
  {
   "cell_type": "code",
   "execution_count": 33,
   "metadata": {},
   "outputs": [
    {
     "data": {
      "text/plain": [
       "['/doctors/search?specialties_facet=Primary+care+>+Family+medicine,Primary+care+>+Internal+medicine&appointment_options=Accepting+new+patients&v=1',\n",
       " '/doctors/search?specialties_facet=Pediatrics&appointment_options=Accepting+new+patients&v=1',\n",
       " '/doctors/search?specialties_facet=OBGYN&appointment_options=Accepting+new+patients&v=1',\n",
       " '/doctors/search?specialties_facet=Cardiology&appointment_options=Accepting+new+patients&v=1',\n",
       " '/doctors/search?specialties_facet=Oncology&appointment_options=Accepting+new+patients&v=1',\n",
       " '/doctors/search?specialties_facet=Orthopedics+>+Orthopedic+surgery&appointment_options=Accepting+new+patients&v=1',\n",
       " '/doctors/search?specialties_facet=Primary+Care+>+Family+medicine,Primary+care+>+Internal+medicine&appointment_options=Accepting+new+patients&v=1',\n",
       " '/doctors/search?specialties_facet=Primary+care+>+Family+medicine&appointment_options=Accepting+new+patients&v=1',\n",
       " '/doctors/search?specialties_facet=Primary+care+>+Internal+medicine&appointment_options=Accepting+new+patients&v=1',\n",
       " '/doctors/search?specialties_facet=Pediatrics&appointment_options=Accepting+new+patients&v=1',\n",
       " '/doctors/search?specialties_facet=Primary+Care+>+Family+medicine,Primary+care+>+Internal+medicine&appointment_options=Accepting+new+patients&v=1',\n",
       " '/doctors/search?specialties_facet=Primary+Care+>+Family+medicine,Primary+care+>+Internal+medicine&appointment_options=Accepting+new+patients&v=1',\n",
       " '/doctors/search?specialties_facet=OBGYN&appointment_options=Accepting+new+patients&v=1',\n",
       " '/doctors/search?specialties_facet=Psychiatric+health+%3E+Addiction+psychiatry&appointment_options=Accepting+new+patients&v=1',\n",
       " '/doctors/search?specialties_facet=Cardiology+>+Advanced+heart+failure+and+transplant+cardiology&appointment_options=Accepting+new+patients&v=1',\n",
       " '/doctors/search?specialties_facet=Allergy+and+immunology&appointment_options=Accepting+new+patients&v=1',\n",
       " '/doctors/search?specialties_facet=Anesthesiology&appointment_options=Accepting+new+patients&v=1',\n",
       " '/doctors/search?specialties_facet=Bariatric+surgery&appointment_options=Accepting+new+patients&v=1',\n",
       " '/doctors/search?specialties_facet=Oncology+>+Breast+surgical+oncology&appointment_options=Accepting+new+patients&v=1',\n",
       " '/doctors/search?specialties_facet=Cardiology+>+Cardiac+electrophysiology&appointment_options=Accepting+new+patients&v=1',\n",
       " '/doctors/search?specialties_facet=Cardiology+>+Cardiothoracic+surgery&appointment_options=Accepting+new+patients&v=1',\n",
       " '/doctors/search?specialties_facet=Cardiology+>+Cardiovascular+disease&appointment_options=Accepting+new+patients&v=1',\n",
       " '/doctors/search?specialties_facet=Cardiology+>+Cardiovascular+surgery&appointment_options=Accepting+new+patients&v=1',\n",
       " '/doctors/search?specialties_facet=Psychiatric+health+>+Child+and+adolescent+psychiatry&appointment_options=Accepting+new+patients&v=1',\n",
       " '/doctors/search?specialties_facet=Colon+and+rectal+surgery&appointment_options=Accepting+new+patients&v=1',\n",
       " '/doctors/search?specialties_facet=Critical+care+medicine&appointment_options=Accepting+new+patients&v=1',\n",
       " '/doctors/search?specialties_facet=Dermatology&appointment_options=Accepting+new+patients&v=1',\n",
       " '/doctors/search?specialties_facet=Endocrinology&appointment_options=Accepting+new+patients&v=1',\n",
       " '/doctors/search?specialties_facet=ENT+(Otolaryngology)&appointment_options=Accepting+new+patients&v=1',\n",
       " '/doctors/search?specialties_facet=Primary+care+>+Family+medicine&appointment_options=Accepting+new+patients&v=1',\n",
       " '/doctors/search?specialties_facet=Orthopedics+>+Foot+and+ankle&appointment_options=Accepting+new+patients&v=1',\n",
       " '/doctors/search?specialties_facet=Gastroenterology&appointment_options=Accepting+new+patients&v=1',\n",
       " '/doctors/search?specialties_facet=Dentistry+>+General+dentistry&appointment_options=Accepting+new+patients&v=1',\n",
       " '/doctors/search?specialties_facet=General+surgery&appointment_options=Accepting+new+patients&v=1',\n",
       " '/doctors/search?specialties_facet=Geriatric+medicine&appointment_options=Accepting+new+patients&v=1',\n",
       " '/doctors/search?specialties_facet=Psychiatric+health+>+Geriatric+psychiatry&appointment_options=Accepting+new+patients&v=1',\n",
       " '/doctors/search?specialties_facet=Oncology+>+Gynecologic+oncology&appointment_options=Accepting+new+patients&v=1',\n",
       " '/doctors/search?specialties_facet=Gynecology&appointment_options=Accepting+new+patients&v=1',\n",
       " '/doctors/search?specialties_facet=Orthopedics+>+Hand+surgery&appointment_options=Accepting+new+patients&v=1',\n",
       " '/doctors/search?specialties_facet=Hand+surgery+-+plastic&appointment_options=Accepting+new+patients&v=1',\n",
       " '/doctors/search?specialties_facet=Oncology+>+Hematology%2Foncology&appointment_options=Accepting+new+patients&v=1',\n",
       " '/doctors/search?specialties_facet=Hepatobiliary+surgery&appointment_options=Accepting+new+patients&v=1',\n",
       " '/doctors/search?specialties_facet=Infectious+disease&appointment_options=Accepting+new+patients&v=1',\n",
       " '/doctors/search?specialties_facet=Primary+care+>+Internal+medicine&appointment_options=Accepting+new+patients&v=1',\n",
       " '/doctors/search?specialties_facet=Cardiology+>+Interventional+cardiology&appointment_options=Accepting+new+patients&v=1',\n",
       " '/doctors/search?specialties_facet=Interventional+neuroradiology&appointment_options=Accepting+new+patients&v=1',\n",
       " '/doctors/search?specialties_facet=Interventional+radiology&appointment_options=Accepting+new+patients&v=1',\n",
       " '/doctors/search?specialties_facet=Orthopedics+>+Joint+replacement&appointment_options=Accepting+new+patients&v=1',\n",
       " '/doctors/search?specialties_facet=Maternal+fetal+medicine&appointment_options=Accepting+new+patients&v=1',\n",
       " '/doctors/search?specialties_facet=Nephrology&appointment_options=Accepting+new+patients&v=1',\n",
       " '/doctors/search?specialties_facet=Neurological+surgery&appointment_options=Accepting+new+patients&v=1',\n",
       " '/doctors/search?specialties_facet=Neurology&appointment_options=Accepting+new+patients&v=1',\n",
       " '/doctors/search?specialties_facet=Neuroradiology&appointment_options=Accepting+new+patients&v=1',\n",
       " '/doctors/search?specialties_facet=OBGYN&appointment_options=Accepting+new+patients&v=1',\n",
       " '/doctors/search?specialties_facet=Occupational+medicine&appointment_options=Accepting+new+patients&v=1',\n",
       " '/doctors/search?specialties_facet=Ophthalmology&appointment_options=Accepting+new+patients&v=1',\n",
       " '/doctors/search?specialties_facet=Optometry&appointment_options=Accepting+new+patients&v=1',\n",
       " '/doctors/search?specialties_facet=Dentistry+>+Oral+and+maxillofacial+surgery&appointment_options=Accepting+new+patients&v=1',\n",
       " '/doctors/search?specialties_facet=Orthopedics+>+Orthopedic+surgery&appointment_options=Accepting+new+patients&v=1',\n",
       " '/doctors/search?specialties_facet=Orthopedics+>+Orthopedics+-+general&appointment_options=Accepting+new+patients&v=1',\n",
       " '/doctors/search?specialties_facet=Orthopedics+>+Orthopedics+-+trauma&appointment_options=Accepting+new+patients&v=1',\n",
       " '/doctors/search?specialties_facet=Pain+management&appointment_options=Accepting+new+patients&v=1',\n",
       " '/doctors/search?specialties_facet=Pediatric+specialists+>+Pediatric+allergy&appointment_options=Accepting+new+patients&v=1',\n",
       " '/doctors/search?specialties_facet=Pediatric+specialists+>+Pediatric+cardiology&appointment_options=Accepting+new+patients&v=1',\n",
       " '/doctors/search?specialties_facet=Pediatric+specialists+>+Pediatric+dermatology&appointment_options=Accepting+new+patients&v=1',\n",
       " '/doctors/search?specialties_facet=Pediatric+specialists+>+Pediatric+ophthalmology&appointment_options=Accepting+new+patients&v=1',\n",
       " '/doctors/search?specialties_facet=Pediatric+specialists+>+Pediatric+orthopedics&appointment_options=Accepting+new+patients&v=1',\n",
       " '/doctors/search?specialties_facet=Pediatric+specialists+>+Pediatric+pulmonology&appointment_options=Accepting+new+patients&v=1',\n",
       " '/doctors/search?specialties_facet=Pediatrics&appointment_options=Accepting+new+patients&v=1',\n",
       " '/doctors/search?specialties_facet=Plastic+surgery&appointment_options=Accepting+new+patients&v=1',\n",
       " '/doctors/search?specialties_facet=Podiatry&appointment_options=Accepting+new+patients&v=1',\n",
       " '/doctors/search?specialties_facet=Psychiatric+health+>+Psychiatry&appointment_options=Accepting+new+patients&v=1',\n",
       " '/doctors/search?specialties_facet=Pulmonary+disease&appointment_options=Accepting+new+patients&v=1',\n",
       " '/doctors/search?specialties_facet=Oncology+>+Radiation+oncology&appointment_options=Accepting+new+patients&v=1',\n",
       " '/doctors/search?specialties_facet=Rehab%2Fphysical+medicine&appointment_options=Accepting+new+patients&v=1',\n",
       " '/doctors/search?specialties_facet=Reproductive+endocrinology%2Finfertility&appointment_options=Accepting+new+patients&v=1',\n",
       " '/doctors/search?specialties_facet=Rheumatology&appointment_options=Accepting+new+patients&v=1',\n",
       " '/doctors/search?specialties_facet=Sleep+medicine&appointment_options=Accepting+new+patients&v=1',\n",
       " '/doctors/search?specialties_facet=Orthopedics+>+Sports+medicine&appointment_options=Accepting+new+patients&v=1',\n",
       " '/doctors/search?specialties_facet=Cardiology+%3E+Thoracic+surgery&appointment_options=Accepting+new+patients&l=&v=1',\n",
       " '/doctors/search?specialties_facet=Transplant+-+kidney+and+pancreas&appointment_options=Accepting+new+patients&l=&v=1',\n",
       " '/doctors/search?specialties_facet=Transplant+hepatology&appointment_options=Accepting+new+patients&l=&v=1',\n",
       " '/doctors/search?specialties_facet=Orthopedics+>+Upper+extremity&appointment_options=Accepting+new+patients&v=1',\n",
       " '/doctors/search?specialties_facet=Urology&appointment_options=Accepting+new+patients&v=1',\n",
       " '/doctors/search?specialties_facet=Urology-gynecology&appointment_options=Accepting+new+patients&v=1',\n",
       " '/doctors/search?specialties_facet=Cardiology+%3E+Vascular+surgery&appointment_options=Accepting+new+patients&v=1']"
      ]
     },
     "execution_count": 33,
     "metadata": {},
     "output_type": "execute_result"
    }
   ],
   "source": [
    "# specialties_links = []\n",
    "# for link in soup.find_all('a'):\n",
    "#     if 'specialties' in link.get(\"href\"):\n",
    "#         specialties_links.append(link.get(\"href\"))\n",
    "# specialties_links[1:]"
   ]
  },
  {
   "cell_type": "code",
   "execution_count": 37,
   "metadata": {},
   "outputs": [
    {
     "data": {
      "text/plain": [
       "'/doctors/search?specialties_facet=Primary+care+>+Family+medicine,Primary+care+>+Internal+medicine&appointment_options=Accepting+new+patients&v=1'"
      ]
     },
     "execution_count": 37,
     "metadata": {},
     "output_type": "execute_result"
    }
   ],
   "source": [
    "# specialties_links[1]"
   ]
  },
  {
   "cell_type": "code",
   "execution_count": 49,
   "metadata": {},
   "outputs": [],
   "source": [
    "# spec1 = requests.get('https://www.sharp.com' + specialties_links[1]).text"
   ]
  },
  {
   "cell_type": "code",
   "execution_count": 70,
   "metadata": {},
   "outputs": [],
   "source": [
    "# t2 = 'https://www.sharp.com' +specialties_links[16]"
   ]
  },
  {
   "cell_type": "code",
   "execution_count": 71,
   "metadata": {},
   "outputs": [
    {
     "data": {
      "text/plain": [
       "'https://www.sharp.com/doctors/search?specialties_facet=Allergy+and+immunology&appointment_options=Accepting+new+patients&v=1'"
      ]
     },
     "execution_count": 71,
     "metadata": {},
     "output_type": "execute_result"
    }
   ],
   "source": [
    "# t2"
   ]
  },
  {
   "cell_type": "code",
   "execution_count": 72,
   "metadata": {},
   "outputs": [
    {
     "data": {
      "text/plain": [
       "[]"
      ]
     },
     "execution_count": 72,
     "metadata": {},
     "output_type": "execute_result"
    }
   ],
   "source": [
    "# BeautifulSoup(requests.get(t2).text).find_all(\"li\", {'class':\"py-8 border-t last:border-b\"})"
   ]
  },
  {
   "cell_type": "code",
   "execution_count": 74,
   "metadata": {},
   "outputs": [
    {
     "data": {
      "text/plain": [
       "[<li class=\"\"><a class=\"transition-colors after:ease-in after:origin-center cursor-pointer font-sans font-medium inline-block outline outline-0 ring-0 ring-offset-0 after:block after:transform after:transition-all after:h-[3px] after:bg-primary after:scale-x-90 after:opacity-0 hover:after:opacity-50 hover:after:scale-x-100 focus-visible:after:scale-x-100 focus-visible:after:opacity-50 pt-4.5 pb-4.25 xl:px-8 px-5 text-sm !font-semibold\" href=\"/doctors\">Find a doctor</a></li>,\n",
       " <li class=\"\"><a class=\"transition-colors after:ease-in after:origin-center cursor-pointer font-sans font-medium inline-block outline outline-0 ring-0 ring-offset-0 after:block after:transform after:transition-all after:h-[3px] after:bg-primary after:scale-x-90 after:opacity-0 hover:after:opacity-50 hover:after:scale-x-100 focus-visible:after:scale-x-100 focus-visible:after:opacity-50 pt-4.5 pb-4.25 xl:px-8 px-5 text-sm !font-semibold\" href=\"/same-day-care\">Same-day care</a></li>,\n",
       " <li class=\"\"><a class=\"transition-colors after:ease-in after:origin-center cursor-pointer font-sans font-medium inline-block outline outline-0 ring-0 ring-offset-0 after:block after:transform after:transition-all after:h-[3px] after:bg-primary after:scale-x-90 after:opacity-0 hover:after:opacity-50 hover:after:scale-x-100 focus-visible:after:scale-x-100 focus-visible:after:opacity-50 pt-4.5 pb-4.25 xl:px-8 px-5 text-sm !font-semibold\" href=\"/locations\">Locations</a></li>,\n",
       " <li class=\"px-5 hover:bg-gray-50 transition-colors\"><a class=\"font-sans font-bold transition-colors cursor-pointer outline-2 text-gray-700 outline-black block py-2 text-sm !font-semibold outline-offset-2 focus:outline-2 no-underline\" href=\"/campaign/open-enrollment\n",
       " \">How to choose Sharp</a></li>,\n",
       " <li class=\"px-5 hover:bg-gray-50 transition-colors\"><a class=\"font-sans font-bold transition-colors cursor-pointer outline-2 text-gray-700 outline-black block py-2 text-sm !font-semibold outline-offset-2 focus:outline-2 no-underline\" href=\"/appointments\">Appointments</a></li>,\n",
       " <li class=\"px-5 hover:bg-gray-50 transition-colors\"><a class=\"font-sans font-bold transition-colors cursor-pointer outline-2 text-gray-700 outline-black block py-2 text-sm !font-semibold outline-offset-2 focus:outline-2 no-underline\" href=\"/billing\">Billing</a></li>,\n",
       " <li class=\"px-5 hover:bg-gray-50 transition-colors\"><a class=\"font-sans font-bold transition-colors cursor-pointer outline-2 text-gray-700 outline-black block py-2 text-sm !font-semibold outline-offset-2 focus:outline-2 no-underline\" href=\"/patients/medical-records\">Medical records</a></li>,\n",
       " <li class=\"hover:bg-gray-50 px-5 transition-colors flex place-content-between\"><div class=\"w-full\"><a class=\"inline-flex py-2 outline-offset-2 focus:outline-2 focus-visible:outline outline-primary w-full rounded items-center place-content-between\" href=\"/doctors\"><span class=\"inline-flex items-center text-base font-bold transition-colors pr-50 text-primary hover:text-primary-800\">Find a doctor</span></a></div></li>,\n",
       " <li class=\"hover:bg-gray-50 px-5 transition-colors flex place-content-between\"><div class=\"w-full\"><a class=\"inline-flex py-2 outline-offset-2 focus:outline-2 focus-visible:outline outline-primary w-full rounded items-center place-content-between\" href=\"/same-day-care\"><span class=\"inline-flex items-center text-base font-bold transition-colors pr-50 text-primary hover:text-primary-800\">Same-day care</span></a></div></li>,\n",
       " <li class=\"hover:bg-gray-50 px-5 transition-colors flex place-content-between\"><div class=\"w-full\"><button aria-expanded=\"false\" class=\"inline-flex py-2 outline-offset-2 focus:outline-2 focus-visible:outline outline-primary w-full rounded items-center place-content-between\"><span class=\"inline-flex items-center text-base font-bold transition-colors pr-50 text-primary hover:text-primary-800\">Locations</span><svg aria-hidden=\"true\" class=\"svg-inline--fa fa-chevron-right h-4 pr-1.5 text-gray-700\" data-icon=\"chevron-right\" data-prefix=\"fas\" focusable=\"false\" role=\"img\" viewbox=\"0 0 320 512\" xmlns=\"http://www.w3.org/2000/svg\"><path d=\"M310.6 233.4c12.5 12.5 12.5 32.8 0 45.3l-192 192c-12.5 12.5-32.8 12.5-45.3 0s-12.5-32.8 0-45.3L242.7 256 73.4 86.6c-12.5-12.5-12.5-32.8 0-45.3s32.8-12.5 45.3 0l192 192z\" fill=\"currentColor\"></path></svg></button></div></li>,\n",
       " <li class=\"hover:bg-gray-50 px-5 transition-colors flex place-content-between mt-3 mb-3\"><div class=\"w-full\"><a class=\"inline-flex py-2 outline-offset-2 focus:outline-2 focus-visible:outline outline-primary w-full rounded items-center place-content-between\" href=\"/locations\"><span class=\"inline-flex items-center text-base font-bold transition-colors pr-50 text-primary hover:text-primary-800\">View all locations</span></a></div></li>,\n",
       " <li class=\"hover:bg-gray-50 px-5 transition-colors flex place-content-between mt-3\"><div class=\"w-full\"><a class=\"inline-flex py-2 outline-offset-2 focus:outline-2 focus-visible:outline outline-primary w-full rounded items-center place-content-between\" href=\"/search/locations?place_type_facet=Doctor%27s+offices&amp;medical_groups_facet=Sharp+Community,Sharp+Rees-Stealy,SharpCare&amp;v=1\"><span class=\"inline-flex items-center text-base font-bold transition-colors pr-50 text-primary hover:text-primary-800\">Doctor's offices</span></a></div></li>,\n",
       " <li class=\"px-5 hover:bg-gray-50 transition-colors\"><a class=\"font-sans font-bold transition-colors cursor-pointer outline-2 text-gray-700 outline-black block py-2 text-sm !font-semibold outline-offset-2 focus:outline-2 no-underline\" href=\"/search/locations?place_type_facet=Doctor%27s+offices&amp;medical_groups_facet=Sharp+Rees-Stealy&amp;v=1\">Sharp Rees-Stealy</a></li>,\n",
       " <li class=\"px-5 hover:bg-gray-50 transition-colors\"><a class=\"font-sans font-bold transition-colors cursor-pointer outline-2 text-gray-700 outline-black block py-2 text-sm !font-semibold outline-offset-2 focus:outline-2 no-underline\" href=\"/search/locations?place_type_facet=Doctor%27s+offices&amp;medical_groups_facet=Sharp+Community&amp;v=1\">Sharp Community</a></li>,\n",
       " <li class=\"px-5 hover:bg-gray-50 transition-colors\"><a class=\"font-sans font-bold transition-colors cursor-pointer outline-2 text-gray-700 outline-black block py-2 text-sm !font-semibold outline-offset-2 focus:outline-2 no-underline\" href=\"/search/locations?place_type_facet=Doctor%27s+offices&amp;medical_groups_facet=SharpCare&amp;v=1\">SharpCare</a></li>,\n",
       " <li class=\"hover:bg-gray-50 px-5 transition-colors flex place-content-between mt-3\"><div class=\"w-full\"><a class=\"inline-flex py-2 outline-offset-2 focus:outline-2 focus-visible:outline outline-primary w-full rounded items-center place-content-between\" href=\"/search/locations?place_type_facet=Urgent+care+and+walk-in+clinics&amp;v=1\"><span class=\"inline-flex items-center text-base font-bold transition-colors pr-50 text-primary hover:text-primary-800\">Urgent and walk-in care</span></a></div></li>,\n",
       " <li class=\"px-5 hover:bg-gray-50 transition-colors\"><a class=\"font-sans font-bold transition-colors cursor-pointer outline-2 text-gray-700 outline-black block py-2 text-sm !font-semibold outline-offset-2 focus:outline-2 no-underline\" href=\"/search/locations?place_type_facet=Urgent+care+and+walk-in+clinics+&gt;+Urgent+care+centers&amp;medical_groups_facet=Sharp+Rees-Stealy&amp;v=1\">Sharp Rees-Stealy</a></li>,\n",
       " <li class=\"px-5 hover:bg-gray-50 transition-colors\"><a class=\"font-sans font-bold transition-colors cursor-pointer outline-2 text-gray-700 outline-black block py-2 text-sm !font-semibold outline-offset-2 focus:outline-2 no-underline\" href=\"/search/locations?place_type_facet=Urgent+care+and+walk-in+clinics&amp;medical_groups_facet=Sharp+Community&amp;v=1\">Sharp Community</a></li>,\n",
       " <li class=\"px-5 hover:bg-gray-50 transition-colors\"><a class=\"font-sans font-bold transition-colors cursor-pointer outline-2 text-gray-700 outline-black block py-2 text-sm !font-semibold outline-offset-2 focus:outline-2 no-underline\" href=\"/search/locations?place_type_facet=Urgent+care+and+walk-in+clinics&amp;medical_groups_facet=SharpCare&amp;v=1\">SharpCare</a></li>,\n",
       " <li class=\"px-5 hover:bg-gray-50 transition-colors\"><a class=\"font-sans font-bold transition-colors cursor-pointer outline-2 text-gray-700 outline-black block py-2 text-sm !font-semibold outline-offset-2 focus:outline-2 no-underline\" href=\"/virtual-care\">Same-day virtual care</a></li>,\n",
       " <li class=\"hover:bg-gray-50 px-5 transition-colors flex place-content-between mt-3\"><div class=\"w-full\"><a class=\"inline-flex py-2 outline-offset-2 focus:outline-2 focus-visible:outline outline-primary w-full rounded items-center place-content-between\" href=\"/search/locations?place_type_facet=Emergency+rooms&amp;v=1\"><span class=\"inline-flex items-center text-base font-bold transition-colors pr-50 text-primary hover:text-primary-800\">Emergency rooms</span></a></div></li>,\n",
       " <li class=\"px-5 hover:bg-gray-50 transition-colors\"><a class=\"font-sans font-bold transition-colors cursor-pointer outline-2 text-gray-700 outline-black block py-2 text-sm !font-semibold outline-offset-2 focus:outline-2 no-underline\" href=\"/locations/sharp-chula-vista-emergency-room\">Sharp Chula Vista ER</a></li>,\n",
       " <li class=\"px-5 hover:bg-gray-50 transition-colors\"><a class=\"font-sans font-bold transition-colors cursor-pointer outline-2 text-gray-700 outline-black block py-2 text-sm !font-semibold outline-offset-2 focus:outline-2 no-underline\" href=\"/locations/sharp-coronado-emergency-room\">Sharp Coronado ER</a></li>,\n",
       " <li class=\"px-5 hover:bg-gray-50 transition-colors\"><a class=\"font-sans font-bold transition-colors cursor-pointer outline-2 text-gray-700 outline-black block py-2 text-sm !font-semibold outline-offset-2 focus:outline-2 no-underline\" href=\"/locations/sharp-grossmont-emergency-room\">Sharp Grossmont ER</a></li>,\n",
       " <li class=\"px-5 hover:bg-gray-50 transition-colors\"><a class=\"font-sans font-bold transition-colors cursor-pointer outline-2 text-gray-700 outline-black block py-2 text-sm !font-semibold outline-offset-2 focus:outline-2 no-underline\" href=\"/locations/sharp-memorial-emergency-room\">Sharp Memorial ER</a></li>,\n",
       " <li class=\"hover:bg-gray-50 px-5 transition-colors flex place-content-between mt-3\"><div class=\"w-full\"><a class=\"inline-flex py-2 outline-offset-2 focus:outline-2 focus-visible:outline outline-primary w-full rounded items-center place-content-between\" href=\"/search/locations?place_type_facet=Hospitals&amp;v=1\"><span class=\"inline-flex items-center text-base font-bold transition-colors pr-50 text-primary hover:text-primary-800\">Hospitals</span></a></div></li>,\n",
       " <li class=\"px-5 hover:bg-gray-50 transition-colors\"><a class=\"font-sans font-bold transition-colors cursor-pointer outline-2 text-gray-700 outline-black block py-2 text-sm !font-semibold outline-offset-2 focus:outline-2 no-underline\" href=\"/locations/hospitals/sharp-chula-vista\">Sharp Chula Vista Medical Center</a></li>,\n",
       " <li class=\"px-5 hover:bg-gray-50 transition-colors\"><a class=\"font-sans font-bold transition-colors cursor-pointer outline-2 text-gray-700 outline-black block py-2 text-sm !font-semibold outline-offset-2 focus:outline-2 no-underline\" href=\"/locations/hospitals/sharp-coronado\">Sharp Coronado Hospital</a></li>,\n",
       " <li class=\"px-5 hover:bg-gray-50 transition-colors\"><a class=\"font-sans font-bold transition-colors cursor-pointer outline-2 text-gray-700 outline-black block py-2 text-sm !font-semibold outline-offset-2 focus:outline-2 no-underline\" href=\"/locations/hospitals/sharp-grossmont\">Sharp Grossmont Hospital</a></li>,\n",
       " <li class=\"px-5 hover:bg-gray-50 transition-colors\"><a class=\"font-sans font-bold transition-colors cursor-pointer outline-2 text-gray-700 outline-black block py-2 text-sm !font-semibold outline-offset-2 focus:outline-2 no-underline\" href=\"/locations/hospitals/sharp-mary-birch\">Sharp Mary Birch Hospital for Women &amp; Newborns</a></li>,\n",
       " <li class=\"px-5 hover:bg-gray-50 transition-colors\"><a class=\"font-sans font-bold transition-colors cursor-pointer outline-2 text-gray-700 outline-black block py-2 text-sm !font-semibold outline-offset-2 focus:outline-2 no-underline\" href=\"/locations/hospitals/sharp-mcdonald\">Sharp McDonald Center</a></li>,\n",
       " <li class=\"px-5 hover:bg-gray-50 transition-colors\"><a class=\"font-sans font-bold transition-colors cursor-pointer outline-2 text-gray-700 outline-black block py-2 text-sm !font-semibold outline-offset-2 focus:outline-2 no-underline\" href=\"/locations/hospitals/sharp-memorial\">Sharp Memorial Hospital</a></li>,\n",
       " <li class=\"px-5 hover:bg-gray-50 transition-colors\"><a class=\"font-sans font-bold transition-colors cursor-pointer outline-2 text-gray-700 outline-black block py-2 text-sm !font-semibold outline-offset-2 focus:outline-2 no-underline\" href=\"/locations/hospitals/sharp-mesa-vista\">Sharp Mesa Vista Hospital</a></li>,\n",
       " <li class=\"hover:bg-gray-50 px-5 transition-colors flex place-content-between\"><div class=\"w-full\"><button aria-expanded=\"false\" class=\"inline-flex py-2 outline-offset-2 focus:outline-2 focus-visible:outline outline-primary w-full rounded items-center place-content-between\"><span class=\"inline-flex items-center text-base font-bold transition-colors pr-50 text-primary hover:text-primary-800\">Services</span><svg aria-hidden=\"true\" class=\"svg-inline--fa fa-chevron-right h-4 pr-1.5 text-gray-700\" data-icon=\"chevron-right\" data-prefix=\"fas\" focusable=\"false\" role=\"img\" viewbox=\"0 0 320 512\" xmlns=\"http://www.w3.org/2000/svg\"><path d=\"M310.6 233.4c12.5 12.5 12.5 32.8 0 45.3l-192 192c-12.5 12.5-32.8 12.5-45.3 0s-12.5-32.8 0-45.3L242.7 256 73.4 86.6c-12.5-12.5-12.5-32.8 0-45.3s32.8-12.5 45.3 0l192 192z\" fill=\"currentColor\"></path></svg></button></div></li>,\n",
       " <li class=\"hover:bg-gray-50 px-5 transition-colors flex place-content-between mt-3 mb-3\"><div class=\"w-full\"><a class=\"inline-flex py-2 outline-offset-2 focus:outline-2 focus-visible:outline outline-primary w-full rounded items-center place-content-between\" href=\"/services\"><span class=\"inline-flex items-center text-base font-bold transition-colors pr-50 text-primary hover:text-primary-800\">View all services</span></a></div></li>,\n",
       " <li class=\"hover:bg-gray-50 px-5 transition-colors flex place-content-between mt-3\"><div class=\"w-full\"><a class=\"inline-flex py-2 outline-offset-2 focus:outline-2 focus-visible:outline outline-primary w-full rounded items-center place-content-between\" href=\"/same-day-care\"><span class=\"inline-flex items-center text-base font-bold transition-colors pr-50 text-primary hover:text-primary-800\">Everyday care</span></a></div></li>,\n",
       " <li class=\"px-5 hover:bg-gray-50 transition-colors\"><a class=\"font-sans font-bold transition-colors cursor-pointer outline-2 text-gray-700 outline-black block py-2 text-sm !font-semibold outline-offset-2 focus:outline-2 no-underline\" href=\"/locations/search?place_type_facet=Labs&amp;v=1\">Laboratory services</a></li>,\n",
       " <li class=\"px-5 hover:bg-gray-50 transition-colors\"><a class=\"font-sans font-bold transition-colors cursor-pointer outline-2 text-gray-700 outline-black block py-2 text-sm !font-semibold outline-offset-2 focus:outline-2 no-underline\" href=\"/services/primary-care\">Primary care</a></li>,\n",
       " <li class=\"px-5 hover:bg-gray-50 transition-colors\"><a class=\"font-sans font-bold transition-colors cursor-pointer outline-2 text-gray-700 outline-black block py-2 text-sm !font-semibold outline-offset-2 focus:outline-2 no-underline\" href=\"/locations/search?place_type_facet=Imaging+centers&amp;v=1\">Radiology and imaging</a></li>,\n",
       " <li class=\"px-5 hover:bg-gray-50 transition-colors\"><a class=\"font-sans font-bold transition-colors cursor-pointer outline-2 text-gray-700 outline-black block py-2 text-sm !font-semibold outline-offset-2 focus:outline-2 no-underline\" href=\"/same-day-care\">Urgent and emergency care</a></li>,\n",
       " <li class=\"hover:bg-gray-50 px-5 transition-colors flex place-content-between mt-3\"><div class=\"w-full\"><a class=\"inline-flex py-2 outline-offset-2 focus:outline-2 focus-visible:outline outline-primary w-full rounded items-center place-content-between\" href=\"/services\"><span class=\"inline-flex items-center text-base font-bold transition-colors pr-50 text-primary hover:text-primary-800\">Specialties</span></a></div></li>,\n",
       " <li class=\"px-5 hover:bg-gray-50 transition-colors\"><a class=\"font-sans font-bold transition-colors cursor-pointer outline-2 text-gray-700 outline-black block py-2 text-sm !font-semibold outline-offset-2 focus:outline-2 no-underline\" href=\"/services/cancer\">Cancer treatment</a></li>,\n",
       " <li class=\"px-5 hover:bg-gray-50 transition-colors\"><a class=\"font-sans font-bold transition-colors cursor-pointer outline-2 text-gray-700 outline-black block py-2 text-sm !font-semibold outline-offset-2 focus:outline-2 no-underline\" href=\"/services/heart\">Heart and vascular care</a></li>,\n",
       " <li class=\"px-5 hover:bg-gray-50 transition-colors\"><a class=\"font-sans font-bold transition-colors cursor-pointer outline-2 text-gray-700 outline-black block py-2 text-sm !font-semibold outline-offset-2 focus:outline-2 no-underline\" href=\"/services/mental-health\">Mental health</a></li>,\n",
       " <li class=\"px-5 hover:bg-gray-50 transition-colors\"><a class=\"font-sans font-bold transition-colors cursor-pointer outline-2 text-gray-700 outline-black block py-2 text-sm !font-semibold outline-offset-2 focus:outline-2 no-underline\" href=\"/services/orthopedics\">Orthopedics</a></li>,\n",
       " <li class=\"px-5 hover:bg-gray-50 transition-colors\"><a class=\"font-sans font-bold transition-colors cursor-pointer outline-2 text-gray-700 outline-black block py-2 text-sm !font-semibold outline-offset-2 focus:outline-2 no-underline\" href=\"/services/obstetrics-gynecology-obgyn\">Obstetrics and gynecology (OBGYN)</a></li>,\n",
       " <li class=\"hover:bg-gray-50 px-5 transition-colors flex place-content-between mt-3\"><div class=\"w-full\"><a class=\"inline-flex py-2 outline-offset-2 focus:outline-2 focus-visible:outline outline-primary w-full rounded items-center place-content-between\" href=\"/services\"><span class=\"inline-flex items-center text-base font-bold transition-colors pr-50 text-primary hover:text-primary-800\">Programs</span></a></div></li>,\n",
       " <li class=\"px-5 hover:bg-gray-50 transition-colors\"><a class=\"font-sans font-bold transition-colors cursor-pointer outline-2 text-gray-700 outline-black block py-2 text-sm !font-semibold outline-offset-2 focus:outline-2 no-underline\" href=\"/services/global-patient-services\">Global patient services</a></li>,\n",
       " <li class=\"px-5 hover:bg-gray-50 transition-colors\"><a class=\"font-sans font-bold transition-colors cursor-pointer outline-2 text-gray-700 outline-black block py-2 text-sm !font-semibold outline-offset-2 focus:outline-2 no-underline\" href=\"/services/hospice\">Hospice</a></li>,\n",
       " <li class=\"px-5 hover:bg-gray-50 transition-colors\"><a class=\"font-sans font-bold transition-colors cursor-pointer outline-2 text-gray-700 outline-black block py-2 text-sm !font-semibold outline-offset-2 focus:outline-2 no-underline\" href=\"/services/weight-management\">Weight management</a></li>,\n",
       " <li class=\"hover:bg-gray-50 px-5 transition-colors flex place-content-between\"><div class=\"w-full\"><button aria-expanded=\"false\" class=\"inline-flex py-2 outline-offset-2 focus:outline-2 focus-visible:outline outline-primary w-full rounded items-center place-content-between\"><span class=\"inline-flex items-center text-base font-bold transition-colors pr-50 text-primary hover:text-primary-800\">Insurance</span><svg aria-hidden=\"true\" class=\"svg-inline--fa fa-chevron-right h-4 pr-1.5 text-gray-700\" data-icon=\"chevron-right\" data-prefix=\"fas\" focusable=\"false\" role=\"img\" viewbox=\"0 0 320 512\" xmlns=\"http://www.w3.org/2000/svg\"><path d=\"M310.6 233.4c12.5 12.5 12.5 32.8 0 45.3l-192 192c-12.5 12.5-32.8 12.5-45.3 0s-12.5-32.8 0-45.3L242.7 256 73.4 86.6c-12.5-12.5-12.5-32.8 0-45.3s32.8-12.5 45.3 0l192 192z\" fill=\"currentColor\"></path></svg></button></div></li>,\n",
       " <li class=\"hover:bg-gray-50 px-5 transition-colors flex place-content-between mt-3\"><div class=\"w-full\"><a class=\"inline-flex py-2 outline-offset-2 focus:outline-2 focus-visible:outline outline-primary w-full rounded items-center place-content-between\" href=\"/health-insurance/accepted-plans\"><span class=\"inline-flex items-center text-base font-bold transition-colors pr-50 text-primary hover:text-primary-800\">Does Sharp accept my insurance?</span></a></div></li>,\n",
       " <li class=\"px-5 hover:bg-gray-50 transition-colors\"><a class=\"font-sans font-bold transition-colors cursor-pointer outline-2 text-gray-700 outline-black block py-2 text-sm !font-semibold outline-offset-2 focus:outline-2 no-underline\" href=\"/health-insurance\">Understanding health insurance</a></li>,\n",
       " <li class=\"px-5 hover:bg-gray-50 transition-colors\"><a class=\"font-sans font-bold transition-colors cursor-pointer outline-2 text-gray-700 outline-black block py-2 text-sm !font-semibold outline-offset-2 focus:outline-2 no-underline\" href=\"/health-insurance/accepted-plans\">View all accepted plans</a></li>,\n",
       " <li class=\"hover:bg-gray-50 px-5 transition-colors flex place-content-between mt-3\"><div class=\"w-full\"><a class=\"inline-flex py-2 outline-offset-2 focus:outline-2 focus-visible:outline outline-primary w-full rounded items-center place-content-between\" href=\"/health-insurance\"><span class=\"inline-flex items-center text-base font-bold transition-colors pr-50 text-primary hover:text-primary-800\">Shop plans</span></a></div></li>,\n",
       " <li class=\"px-5 hover:bg-gray-50 transition-colors\"><a class=\"font-sans font-bold transition-colors cursor-pointer outline-2 text-gray-700 outline-black block py-2 text-sm !font-semibold outline-offset-2 focus:outline-2 no-underline\" href=\"https://www.sharphealthplan.com/\">Sharp Health Plan</a></li>,\n",
       " <li class=\"px-5 hover:bg-gray-50 transition-colors\"><a class=\"font-sans font-bold transition-colors cursor-pointer outline-2 text-gray-700 outline-black block py-2 text-sm !font-semibold outline-offset-2 focus:outline-2 no-underline\" href=\"/health-insurance/buy-insurance\">Covered California</a></li>,\n",
       " <li class=\"px-5 hover:bg-gray-50 transition-colors\"><a class=\"font-sans font-bold transition-colors cursor-pointer outline-2 text-gray-700 outline-black block py-2 text-sm !font-semibold outline-offset-2 focus:outline-2 no-underline\" href=\"/health-insurance/medicare\">Medicare</a></li>,\n",
       " <li class=\"hover:bg-gray-50 px-5 transition-colors flex place-content-between\"><div class=\"w-full\"><button aria-expanded=\"false\" class=\"inline-flex py-2 outline-offset-2 focus:outline-2 focus-visible:outline outline-primary w-full rounded items-center place-content-between\"><span class=\"inline-flex items-center text-base font-bold transition-colors pr-50 text-primary hover:text-primary-800\">Medical groups</span><svg aria-hidden=\"true\" class=\"svg-inline--fa fa-chevron-right h-4 pr-1.5 text-gray-700\" data-icon=\"chevron-right\" data-prefix=\"fas\" focusable=\"false\" role=\"img\" viewbox=\"0 0 320 512\" xmlns=\"http://www.w3.org/2000/svg\"><path d=\"M310.6 233.4c12.5 12.5 12.5 32.8 0 45.3l-192 192c-12.5 12.5-32.8 12.5-45.3 0s-12.5-32.8 0-45.3L242.7 256 73.4 86.6c-12.5-12.5-12.5-32.8 0-45.3s32.8-12.5 45.3 0l192 192z\" fill=\"currentColor\"></path></svg></button></div></li>,\n",
       " <li class=\"hover:bg-gray-50 px-5 transition-colors flex place-content-between mt-3 mb-3\"><div class=\"w-full\"><a class=\"inline-flex py-2 outline-offset-2 focus:outline-2 focus-visible:outline outline-primary w-full rounded items-center place-content-between\" href=\"/health-insurance/medical-groups\"><span class=\"inline-flex items-center text-base font-bold transition-colors pr-50 text-primary hover:text-primary-800\">What are medical groups?</span></a></div></li>,\n",
       " <li class=\"hover:bg-gray-50 px-5 transition-colors flex place-content-between mt-3\"><div class=\"w-full\"><a class=\"inline-flex py-2 outline-offset-2 focus:outline-2 focus-visible:outline outline-primary w-full rounded items-center place-content-between\" href=\"/medical-groups/sharp-rees-stealy\"><span class=\"inline-flex items-center text-base font-bold transition-colors pr-50 text-primary hover:text-primary-800\">Sharp Rees-Stealy</span></a></div></li>,\n",
       " <li class=\"px-5 hover:bg-gray-50 transition-colors\"><a class=\"font-sans font-bold transition-colors cursor-pointer outline-2 text-gray-700 outline-black block py-2 text-sm !font-semibold outline-offset-2 focus:outline-2 no-underline\" href=\"/medical-groups/sharp-rees-stealy\">About Sharp Rees-Stealy</a></li>,\n",
       " <li class=\"px-5 hover:bg-gray-50 transition-colors\"><a class=\"font-sans font-bold transition-colors cursor-pointer outline-2 text-gray-700 outline-black block py-2 text-sm !font-semibold outline-offset-2 focus:outline-2 no-underline\" href=\"/medical-groups/sharp-rees-stealy/accepted-insurance-plans\">Accepted insurance plans</a></li>,\n",
       " <li class=\"px-5 hover:bg-gray-50 transition-colors\"><a class=\"font-sans font-bold transition-colors cursor-pointer outline-2 text-gray-700 outline-black block py-2 text-sm !font-semibold outline-offset-2 focus:outline-2 no-underline\" href=\"/search/locations?medical_groups_facet=Sharp+Rees-Stealy&amp;v=1\">Locations</a></li>,\n",
       " <li class=\"px-5 hover:bg-gray-50 transition-colors\"><a class=\"font-sans font-bold transition-colors cursor-pointer outline-2 text-gray-700 outline-black block py-2 text-sm !font-semibold outline-offset-2 focus:outline-2 no-underline\" href=\"/search/locations?place_type_facet=Urgent+care+and+walk-in+clinics+&gt;+Urgent+care+centers&amp;medical_groups_facet=Sharp+Rees-Stealy&amp;v=1\">Urgent care centers</a></li>,\n",
       " <li class=\"hover:bg-gray-50 px-5 transition-colors flex place-content-between mt-3\"><div class=\"w-full\"><a class=\"inline-flex py-2 outline-offset-2 focus:outline-2 focus-visible:outline outline-primary w-full rounded items-center place-content-between\" href=\"/medical-groups/sharp-community\"><span class=\"inline-flex items-center text-base font-bold transition-colors pr-50 text-primary hover:text-primary-800\">Sharp Community</span></a></div></li>,\n",
       " <li class=\"px-5 hover:bg-gray-50 transition-colors\"><a class=\"font-sans font-bold transition-colors cursor-pointer outline-2 text-gray-700 outline-black block py-2 text-sm !font-semibold outline-offset-2 focus:outline-2 no-underline\" href=\"/medical-groups/sharp-community\">About Sharp Community</a></li>,\n",
       " <li class=\"px-5 hover:bg-gray-50 transition-colors\"><a class=\"font-sans font-bold transition-colors cursor-pointer outline-2 text-gray-700 outline-black block py-2 text-sm !font-semibold outline-offset-2 focus:outline-2 no-underline\" href=\"/medical-groups/sharp-community/accepted-insurance-plans\">Accepted insurance plans</a></li>,\n",
       " <li class=\"px-5 hover:bg-gray-50 transition-colors\"><a class=\"font-sans font-bold transition-colors cursor-pointer outline-2 text-gray-700 outline-black block py-2 text-sm !font-semibold outline-offset-2 focus:outline-2 no-underline\" href=\"/search/locations?place_type_facet=Urgent+care+and+walk-in+clinics&amp;medical_groups_facet=Sharp+Community&amp;v=1\">Urgent care and walk-in clinics</a></li>,\n",
       " <li class=\"hover:bg-gray-50 px-5 transition-colors flex place-content-between mt-3\"><div class=\"w-full\"><a class=\"inline-flex py-2 outline-offset-2 focus:outline-2 focus-visible:outline outline-primary w-full rounded items-center place-content-between\" href=\"/medical-groups/sharpcare\"><span class=\"inline-flex items-center text-base font-bold transition-colors pr-50 text-primary hover:text-primary-800\">SharpCare</span></a></div></li>,\n",
       " <li class=\"px-5 hover:bg-gray-50 transition-colors\"><a class=\"font-sans font-bold transition-colors cursor-pointer outline-2 text-gray-700 outline-black block py-2 text-sm !font-semibold outline-offset-2 focus:outline-2 no-underline\" href=\"/medical-groups/sharpcare\">About SharpCare</a></li>,\n",
       " <li class=\"px-5 hover:bg-gray-50 transition-colors\"><a class=\"font-sans font-bold transition-colors cursor-pointer outline-2 text-gray-700 outline-black block py-2 text-sm !font-semibold outline-offset-2 focus:outline-2 no-underline\" href=\"/medical-groups/sharpcare/accepted-insurance-plans\">Accepted insurance plans</a></li>,\n",
       " <li class=\"px-5 hover:bg-gray-50 transition-colors\"><a class=\"font-sans font-bold transition-colors cursor-pointer outline-2 text-gray-700 outline-black block py-2 text-sm !font-semibold outline-offset-2 focus:outline-2 no-underline\" href=\"/search/locations?place_type_facet=Urgent+care+and+walk-in+clinics&amp;medical_groups_facet=SharpCare&amp;v=1\">Urgent care and walk-in clinics</a></li>,\n",
       " <li class=\"hover:bg-gray-50 px-5 transition-colors flex place-content-between\"><div class=\"w-full\"><a class=\"inline-flex py-2 outline-offset-2 focus:outline-2 focus-visible:outline outline-primary w-full rounded items-center place-content-between\" href=\"/health-classes/\"><span class=\"inline-flex items-center text-base font-bold transition-colors pr-50 text-primary hover:text-primary-800\">Classes and events</span></a></div></li>,\n",
       " <li><a class=\"font-sans font-bold transition-colors cursor-pointer outline-offset-1 outline-2 text-primary hover:text-primary-800 outline-primary inline-flex flex-row items-center text-sm\" href=\"/contact-us\"><svg aria-hidden=\"true\" class=\"svg-inline--fa fa-envelope text-gray-700 pr-1.5\" data-icon=\"envelope\" data-prefix=\"fas\" focusable=\"false\" role=\"img\" viewbox=\"0 0 512 512\" xmlns=\"http://www.w3.org/2000/svg\"><path d=\"M48 64C21.5 64 0 85.5 0 112c0 15.1 7.1 29.3 19.2 38.4L236.8 313.6c11.4 8.5 27 8.5 38.4 0L492.8 150.4c12.1-9.1 19.2-23.3 19.2-38.4c0-26.5-21.5-48-48-48H48zM0 176V384c0 35.3 28.7 64 64 64H448c35.3 0 64-28.7 64-64V176L294.4 339.2c-22.8 17.1-54 17.1-76.8 0L0 176z\" fill=\"currentColor\"></path></svg><span>Contact us</span></a></li>,\n",
       " <li><button class=\"font-sans font-bold transition-colors cursor-pointer outline-offset-1 outline-2 text-primary hover:text-primary-800 outline-primary inline-flex flex-row items-center text-sm\"><svg aria-hidden=\"true\" class=\"svg-inline--fa fa-comment text-gray-700 pr-1.5\" data-icon=\"comment\" data-prefix=\"fas\" focusable=\"false\" role=\"img\" viewbox=\"0 0 512 512\" xmlns=\"http://www.w3.org/2000/svg\"><path d=\"M512 240c0 114.9-114.6 208-256 208c-37.1 0-72.3-6.4-104.1-17.9c-11.9 8.7-31.3 20.6-54.3 30.6C73.6 471.1 44.7 480 16 480c-6.5 0-12.3-3.9-14.8-9.9c-2.5-6-1.1-12.8 3.4-17.4l0 0 0 0 0 0 0 0 .3-.3c.3-.3 .7-.7 1.3-1.4c1.1-1.2 2.8-3.1 4.9-5.7c4.1-5 9.6-12.4 15.2-21.6c10-16.6 19.5-38.4 21.4-62.9C17.7 326.8 0 285.1 0 240C0 125.1 114.6 32 256 32s256 93.1 256 208z\" fill=\"currentColor\"></path></svg><span>Chat with us</span></button><p class=\"ml-5 text-sm font-medium text-gray-700\">7 am to 7 pm daily</p></li>,\n",
       " <li><a class=\"font-sans font-bold transition-colors cursor-pointer outline-offset-1 outline-2 text-primary hover:text-primary-800 outline-primary inline-flex flex-row items-center text-sm\" href=\"tel:+18008274277\"><svg aria-hidden=\"true\" class=\"svg-inline--fa fa-phone text-gray-700 pr-1.5\" data-icon=\"phone\" data-prefix=\"fas\" focusable=\"false\" role=\"img\" viewbox=\"0 0 512 512\" xmlns=\"http://www.w3.org/2000/svg\"><path d=\"M164.9 24.6c-7.7-18.6-28-28.5-47.4-23.2l-88 24C12.1 30.2 0 46 0 64C0 311.4 200.6 512 448 512c18 0 33.8-12.1 38.6-29.5l24-88c5.3-19.4-4.6-39.7-23.2-47.4l-96-40c-16.3-6.8-35.2-2.1-46.3 11.6L304.7 368C234.3 334.7 177.3 277.7 144 207.3L193.3 167c13.7-11.2 18.4-30 11.6-46.3l-40-96z\" fill=\"currentColor\"></path></svg><span>1-800-827-4277</span></a><p class=\"text-sm font-medium ml-5 text-gray-700\">Weekdays, 7 am to 7 pm<br/>View<!-- --> <a class=\"font-sans font-bold transition-colors cursor-pointer outline-offset-1 outline-2 text-primary hover:text-primary-800 outline-primary text-sm\" href=\"/phone-numbers.cfm\">phone directory</a></p></li>,\n",
       " <li><a class=\"font-sans font-bold transition-colors cursor-pointer outline-offset-1 outline-2 text-primary hover:text-primary-800 outline-primary inline-flex flex-row items-center text-sm\" href=\"/es/search/doctors\"><svg aria-hidden=\"true\" class=\"svg-inline--fa fa-earth-americas text-gray-700 pr-1.5\" data-icon=\"earth-americas\" data-prefix=\"fas\" focusable=\"false\" role=\"img\" viewbox=\"0 0 512 512\" xmlns=\"http://www.w3.org/2000/svg\"><path d=\"M57.7 193l9.4 16.4c8.3 14.5 21.9 25.2 38 29.8L163 255.7c17.2 4.9 29 20.6 29 38.5v39.9c0 11 6.2 21 16 25.9s16 14.9 16 25.9v39c0 15.6 14.9 26.9 29.9 22.6c16.1-4.6 28.6-17.5 32.7-33.8l2.8-11.2c4.2-16.9 15.2-31.4 30.3-40l8.1-4.6c15-8.5 24.2-24.5 24.2-41.7v-8.3c0-12.7-5.1-24.9-14.1-33.9l-3.9-3.9c-9-9-21.2-14.1-33.9-14.1H257c-11.1 0-22.1-2.9-31.8-8.4l-34.5-19.7c-4.3-2.5-7.6-6.5-9.2-11.2c-3.2-9.6 1.1-20 10.2-24.5l5.9-3c6.6-3.3 14.3-3.9 21.3-1.5l23.2 7.7c8.2 2.7 17.2-.4 21.9-7.5c4.7-7 4.2-16.3-1.2-22.8l-13.6-16.3c-10-12-9.9-29.5 .3-41.3l15.7-18.3c8.8-10.3 10.2-25 3.5-36.7l-2.4-4.2c-3.5-.2-6.9-.3-10.4-.3C163.1 48 84.4 108.9 57.7 193zM464 256c0-36.8-9.6-71.4-26.4-101.5L412 164.8c-15.7 6.3-23.8 23.8-18.5 39.8l16.9 50.7c3.5 10.4 12 18.3 22.6 20.9l29.1 7.3c1.2-9 1.8-18.2 1.8-27.5zM0 256a256 256 0 1 1 512 0A256 256 0 1 1 0 256z\" fill=\"currentColor\"></path></svg><span>Español</span></a></li>,\n",
       " <li><a class=\"font-sans font-bold transition-colors cursor-pointer outline-offset-1 outline-2 text-primary hover:text-primary-800 outline-primary inline-flex flex-row items-center text-sm\" href=\"/contact-us\"><svg aria-hidden=\"true\" class=\"svg-inline--fa fa-envelope text-gray-700 pr-1.5\" data-icon=\"envelope\" data-prefix=\"fas\" focusable=\"false\" role=\"img\" viewbox=\"0 0 512 512\" xmlns=\"http://www.w3.org/2000/svg\"><path d=\"M48 64C21.5 64 0 85.5 0 112c0 15.1 7.1 29.3 19.2 38.4L236.8 313.6c11.4 8.5 27 8.5 38.4 0L492.8 150.4c12.1-9.1 19.2-23.3 19.2-38.4c0-26.5-21.5-48-48-48H48zM0 176V384c0 35.3 28.7 64 64 64H448c35.3 0 64-28.7 64-64V176L294.4 339.2c-22.8 17.1-54 17.1-76.8 0L0 176z\" fill=\"currentColor\"></path></svg><span>Contact us</span></a></li>,\n",
       " <li><button class=\"font-sans font-bold transition-colors cursor-pointer outline-offset-1 outline-2 text-primary hover:text-primary-800 outline-primary inline-flex flex-row items-center text-sm\"><svg aria-hidden=\"true\" class=\"svg-inline--fa fa-comment text-gray-700 pr-1.5\" data-icon=\"comment\" data-prefix=\"fas\" focusable=\"false\" role=\"img\" viewbox=\"0 0 512 512\" xmlns=\"http://www.w3.org/2000/svg\"><path d=\"M512 240c0 114.9-114.6 208-256 208c-37.1 0-72.3-6.4-104.1-17.9c-11.9 8.7-31.3 20.6-54.3 30.6C73.6 471.1 44.7 480 16 480c-6.5 0-12.3-3.9-14.8-9.9c-2.5-6-1.1-12.8 3.4-17.4l0 0 0 0 0 0 0 0 .3-.3c.3-.3 .7-.7 1.3-1.4c1.1-1.2 2.8-3.1 4.9-5.7c4.1-5 9.6-12.4 15.2-21.6c10-16.6 19.5-38.4 21.4-62.9C17.7 326.8 0 285.1 0 240C0 125.1 114.6 32 256 32s256 93.1 256 208z\" fill=\"currentColor\"></path></svg><span>Chat with us</span></button><p class=\"ml-5 text-sm font-medium text-gray-700\">7 am to 7 pm daily</p></li>,\n",
       " <li><a class=\"font-sans font-bold transition-colors cursor-pointer outline-offset-1 outline-2 text-primary hover:text-primary-800 outline-primary inline-flex flex-row items-center text-sm\" href=\"tel:+18008274277\"><svg aria-hidden=\"true\" class=\"svg-inline--fa fa-phone text-gray-700 pr-1.5\" data-icon=\"phone\" data-prefix=\"fas\" focusable=\"false\" role=\"img\" viewbox=\"0 0 512 512\" xmlns=\"http://www.w3.org/2000/svg\"><path d=\"M164.9 24.6c-7.7-18.6-28-28.5-47.4-23.2l-88 24C12.1 30.2 0 46 0 64C0 311.4 200.6 512 448 512c18 0 33.8-12.1 38.6-29.5l24-88c5.3-19.4-4.6-39.7-23.2-47.4l-96-40c-16.3-6.8-35.2-2.1-46.3 11.6L304.7 368C234.3 334.7 177.3 277.7 144 207.3L193.3 167c13.7-11.2 18.4-30 11.6-46.3l-40-96z\" fill=\"currentColor\"></path></svg><span>1-800-827-4277</span></a><p class=\"text-sm font-medium ml-5 text-gray-700\">Weekdays, 7 am to 7 pm<br/>View<!-- --> <a class=\"font-sans font-bold transition-colors cursor-pointer outline-offset-1 outline-2 text-primary hover:text-primary-800 outline-primary text-sm\" href=\"/phone-numbers.cfm\">phone directory</a></p></li>,\n",
       " <li><a class=\"font-sans font-bold transition-colors cursor-pointer outline-offset-1 outline-2 text-primary hover:text-primary-800 outline-primary inline-flex flex-row items-center text-sm\" href=\"/es/search/doctors\"><svg aria-hidden=\"true\" class=\"svg-inline--fa fa-earth-americas text-gray-700 pr-1.5\" data-icon=\"earth-americas\" data-prefix=\"fas\" focusable=\"false\" role=\"img\" viewbox=\"0 0 512 512\" xmlns=\"http://www.w3.org/2000/svg\"><path d=\"M57.7 193l9.4 16.4c8.3 14.5 21.9 25.2 38 29.8L163 255.7c17.2 4.9 29 20.6 29 38.5v39.9c0 11 6.2 21 16 25.9s16 14.9 16 25.9v39c0 15.6 14.9 26.9 29.9 22.6c16.1-4.6 28.6-17.5 32.7-33.8l2.8-11.2c4.2-16.9 15.2-31.4 30.3-40l8.1-4.6c15-8.5 24.2-24.5 24.2-41.7v-8.3c0-12.7-5.1-24.9-14.1-33.9l-3.9-3.9c-9-9-21.2-14.1-33.9-14.1H257c-11.1 0-22.1-2.9-31.8-8.4l-34.5-19.7c-4.3-2.5-7.6-6.5-9.2-11.2c-3.2-9.6 1.1-20 10.2-24.5l5.9-3c6.6-3.3 14.3-3.9 21.3-1.5l23.2 7.7c8.2 2.7 17.2-.4 21.9-7.5c4.7-7 4.2-16.3-1.2-22.8l-13.6-16.3c-10-12-9.9-29.5 .3-41.3l15.7-18.3c8.8-10.3 10.2-25 3.5-36.7l-2.4-4.2c-3.5-.2-6.9-.3-10.4-.3C163.1 48 84.4 108.9 57.7 193zM464 256c0-36.8-9.6-71.4-26.4-101.5L412 164.8c-15.7 6.3-23.8 23.8-18.5 39.8l16.9 50.7c3.5 10.4 12 18.3 22.6 20.9l29.1 7.3c1.2-9 1.8-18.2 1.8-27.5zM0 256a256 256 0 1 1 512 0A256 256 0 1 1 0 256z\" fill=\"currentColor\"></path></svg><span>Español</span></a></li>,\n",
       " <li class=\"mt-2\"><a class=\"transition-colors after:ease-in after:origin-center cursor-pointer font-sans font-medium inline-block outline outline-0 ring-0 ring-offset-0 after:block after:transform after:transition-all after:h-[3px] after:bg-primary after:scale-x-90 after:opacity-0 hover:after:opacity-50 hover:after:scale-x-100 focus-visible:after:scale-x-100 focus-visible:after:opacity-50 text-sm\" href=\"/app\">Sharp app and account</a></li>,\n",
       " <li class=\"mt-2\"><a class=\"transition-colors after:ease-in after:origin-center cursor-pointer font-sans font-medium inline-block outline outline-0 ring-0 ring-offset-0 after:block after:transform after:transition-all after:h-[3px] after:bg-primary after:scale-x-90 after:opacity-0 hover:after:opacity-50 hover:after:scale-x-100 focus-visible:after:scale-x-100 focus-visible:after:opacity-50 text-sm\" href=\"/visitor-information\">Visitor information</a></li>,\n",
       " <li class=\"mt-2\"><a class=\"transition-colors after:ease-in after:origin-center cursor-pointer font-sans font-medium inline-block outline outline-0 ring-0 ring-offset-0 after:block after:transform after:transition-all after:h-[3px] after:bg-primary after:scale-x-90 after:opacity-0 hover:after:opacity-50 hover:after:scale-x-100 focus-visible:after:scale-x-100 focus-visible:after:opacity-50 text-sm\" href=\"/billing\">Pay my bill</a></li>,\n",
       " <li class=\"mt-2\"><a class=\"transition-colors after:ease-in after:origin-center cursor-pointer font-sans font-medium inline-block outline outline-0 ring-0 ring-offset-0 after:block after:transform after:transition-all after:h-[3px] after:bg-primary after:scale-x-90 after:opacity-0 hover:after:opacity-50 hover:after:scale-x-100 focus-visible:after:scale-x-100 focus-visible:after:opacity-50 text-sm\" href=\"/billing/estimate\">Price transparency</a></li>,\n",
       " <li class=\"mt-2\"><a class=\"transition-colors after:ease-in after:origin-center cursor-pointer font-sans font-medium inline-block outline outline-0 ring-0 ring-offset-0 after:block after:transform after:transition-all after:h-[3px] after:bg-primary after:scale-x-90 after:opacity-0 hover:after:opacity-50 hover:after:scale-x-100 focus-visible:after:scale-x-100 focus-visible:after:opacity-50 text-sm\" href=\"/patient/billing/financial-assistance.cfm\">Hospital financial assistance</a></li>,\n",
       " <li class=\"mt-2\"><a class=\"transition-colors after:ease-in after:origin-center cursor-pointer font-sans font-medium inline-block outline outline-0 ring-0 ring-offset-0 after:block after:transform after:transition-all after:h-[3px] after:bg-primary after:scale-x-90 after:opacity-0 hover:after:opacity-50 hover:after:scale-x-100 focus-visible:after:scale-x-100 focus-visible:after:opacity-50 text-sm\" href=\"/policies-procedures\">Policies and procedures</a></li>,\n",
       " <li class=\"mt-2\"><a class=\"transition-colors after:ease-in after:origin-center cursor-pointer font-sans font-medium inline-block outline outline-0 ring-0 ring-offset-0 after:block after:transform after:transition-all after:h-[3px] after:bg-primary after:scale-x-90 after:opacity-0 hover:after:opacity-50 hover:after:scale-x-100 focus-visible:after:scale-x-100 focus-visible:after:opacity-50 text-sm\" href=\"/resources-patients-families\">View all resources</a></li>,\n",
       " <li class=\"mt-2\"><a class=\"transition-colors after:ease-in after:origin-center cursor-pointer font-sans font-medium inline-block outline outline-0 ring-0 ring-offset-0 after:block after:transform after:transition-all after:h-[3px] after:bg-primary after:scale-x-90 after:opacity-0 hover:after:opacity-50 hover:after:scale-x-100 focus-visible:after:scale-x-100 focus-visible:after:opacity-50 text-sm\" href=\"/about\">About</a></li>,\n",
       " <li class=\"mt-2\"><a class=\"transition-colors after:ease-in after:origin-center cursor-pointer font-sans font-medium inline-block outline outline-0 ring-0 ring-offset-0 after:block after:transform after:transition-all after:h-[3px] after:bg-primary after:scale-x-90 after:opacity-0 hover:after:opacity-50 hover:after:scale-x-100 focus-visible:after:scale-x-100 focus-visible:after:opacity-50 text-sm\" href=\"/give/\">Donate</a></li>,\n",
       " <li class=\"mt-2\"><a class=\"transition-colors after:ease-in after:origin-center cursor-pointer font-sans font-medium inline-block outline outline-0 ring-0 ring-offset-0 after:block after:transform after:transition-all after:h-[3px] after:bg-primary after:scale-x-90 after:opacity-0 hover:after:opacity-50 hover:after:scale-x-100 focus-visible:after:scale-x-100 focus-visible:after:opacity-50 text-sm\" href=\"/health-news\">News</a></li>,\n",
       " <li class=\"mt-2\"><a class=\"transition-colors after:ease-in after:origin-center cursor-pointer font-sans font-medium inline-block outline outline-0 ring-0 ring-offset-0 after:block after:transform after:transition-all after:h-[3px] after:bg-primary after:scale-x-90 after:opacity-0 hover:after:opacity-50 hover:after:scale-x-100 focus-visible:after:scale-x-100 focus-visible:after:opacity-50 text-sm\" href=\"https://careers.sharp.com/\">Jobs</a></li>,\n",
       " <li class=\"mt-2\"><a class=\"transition-colors after:ease-in after:origin-center cursor-pointer font-sans font-medium inline-block outline outline-0 ring-0 ring-offset-0 after:block after:transform after:transition-all after:h-[3px] after:bg-primary after:scale-x-90 after:opacity-0 hover:after:opacity-50 hover:after:scale-x-100 focus-visible:after:scale-x-100 focus-visible:after:opacity-50 text-sm\" href=\"https://www.sharphealthplan.com/\">Sharp Health Plan</a></li>,\n",
       " <li class=\"mt-2\"><a class=\"transition-colors after:ease-in after:origin-center cursor-pointer font-sans font-medium inline-block outline outline-0 ring-0 ring-offset-0 after:block after:transform after:transition-all after:h-[3px] after:bg-primary after:scale-x-90 after:opacity-0 hover:after:opacity-50 hover:after:scale-x-100 focus-visible:after:scale-x-100 focus-visible:after:opacity-50 text-sm\" href=\"/employees\">Employees</a></li>,\n",
       " <li class=\"mt-2\"><a class=\"transition-colors after:ease-in after:origin-center cursor-pointer font-sans font-medium inline-block outline outline-0 ring-0 ring-offset-0 after:block after:transform after:transition-all after:h-[3px] after:bg-primary after:scale-x-90 after:opacity-0 hover:after:opacity-50 hover:after:scale-x-100 focus-visible:after:scale-x-100 focus-visible:after:opacity-50 text-sm\" href=\"/physicians\">Physicians</a></li>,\n",
       " <li class=\"mt-2\"><a class=\"transition-colors after:ease-in after:origin-center cursor-pointer font-sans font-medium inline-block outline outline-0 ring-0 ring-offset-0 after:block after:transform after:transition-all after:h-[3px] after:bg-primary after:scale-x-90 after:opacity-0 hover:after:opacity-50 hover:after:scale-x-100 focus-visible:after:scale-x-100 focus-visible:after:opacity-50 text-sm\" href=\"/interns-fellows\">Interns and fellows</a></li>,\n",
       " <li class=\"mt-2\"><a class=\"transition-colors after:ease-in after:origin-center cursor-pointer font-sans font-medium inline-block outline outline-0 ring-0 ring-offset-0 after:block after:transform after:transition-all after:h-[3px] after:bg-primary after:scale-x-90 after:opacity-0 hover:after:opacity-50 hover:after:scale-x-100 focus-visible:after:scale-x-100 focus-visible:after:opacity-50 text-sm\" href=\"/instructors-students\">Instructors and students</a></li>,\n",
       " <li class=\"mt-2\"><a class=\"transition-colors after:ease-in after:origin-center cursor-pointer font-sans font-medium inline-block outline outline-0 ring-0 ring-offset-0 after:block after:transform after:transition-all after:h-[3px] after:bg-primary after:scale-x-90 after:opacity-0 hover:after:opacity-50 hover:after:scale-x-100 focus-visible:after:scale-x-100 focus-visible:after:opacity-50 text-sm\" href=\"/media-center\">Media</a></li>,\n",
       " <li class=\"mt-2\"><a class=\"transition-colors after:ease-in after:origin-center cursor-pointer font-sans font-medium inline-block outline outline-0 ring-0 ring-offset-0 after:block after:transform after:transition-all after:h-[3px] after:bg-primary after:scale-x-90 after:opacity-0 hover:after:opacity-50 hover:after:scale-x-100 focus-visible:after:scale-x-100 focus-visible:after:opacity-50 text-sm\" href=\"/vendors\">Vendors</a></li>,\n",
       " <li class=\"mt-2\"><a class=\"transition-colors after:ease-in after:origin-center cursor-pointer font-sans font-medium inline-block outline outline-0 ring-0 ring-offset-0 after:block after:transform after:transition-all after:h-[3px] after:bg-primary after:scale-x-90 after:opacity-0 hover:after:opacity-50 hover:after:scale-x-100 focus-visible:after:scale-x-100 focus-visible:after:opacity-50 text-sm\" href=\"/volunteers\">Volunteers</a></li>,\n",
       " <li><a class=\"flex items-center justify-center gap-2 font-sans font-semibold relative box-border outline-none before:outline-offset-2 before:outline-2 before:focus-visible:outline appearance-none before:transition before:duration-200 before:absolute before:inset-0 before:z-[-1] z-[1] before:rounded-full transition-colors select-none before:border before:outline-primary h-10 min-w-[2.5rem] text-sm cursor-pointer before:bg-white before:border-primary text-primary w-10 before:hover:scale-[1.035] before:hover:drop-shadow before:ease-in-out before:hover:bg-primary-50\" href=\"https://www.facebook.com/sharphealthcare\" rel=\"noreferrer noopener\" role=\"button\" target=\"_blank\" title=\"Facebook\"><svg aria-hidden=\"true\" class=\"svg-inline--fa fa-facebook-f h-5\" data-icon=\"facebook-f\" data-prefix=\"fab\" focusable=\"false\" role=\"img\" viewbox=\"0 0 320 512\" xmlns=\"http://www.w3.org/2000/svg\"><path d=\"M80 299.3V512H196V299.3h86.5l18-97.8H196V166.9c0-51.7 20.3-71.5 72.7-71.5c16.3 0 29.4 .4 37 1.2V7.9C291.4 4 256.4 0 236.2 0C129.3 0 80 50.5 80 159.4v42.1H14v97.8H80z\" fill=\"currentColor\"></path></svg></a></li>,\n",
       " <li><a class=\"flex items-center justify-center gap-2 font-sans font-semibold relative box-border outline-none before:outline-offset-2 before:outline-2 before:focus-visible:outline appearance-none before:transition before:duration-200 before:absolute before:inset-0 before:z-[-1] z-[1] before:rounded-full transition-colors select-none before:border before:outline-primary h-10 min-w-[2.5rem] text-sm cursor-pointer before:bg-white before:border-primary text-primary w-10 before:hover:scale-[1.035] before:hover:drop-shadow before:ease-in-out before:hover:bg-primary-50\" href=\"https://twitter.com/sharphealthcare\" rel=\"noreferrer noopener\" role=\"button\" target=\"_blank\" title=\"Twitter\"><svg aria-hidden=\"true\" class=\"svg-inline--fa fa-twitter h-5\" data-icon=\"twitter\" data-prefix=\"fab\" focusable=\"false\" role=\"img\" viewbox=\"0 0 512 512\" xmlns=\"http://www.w3.org/2000/svg\"><path d=\"M459.37 151.716c.325 4.548.325 9.097.325 13.645 0 138.72-105.583 298.558-298.558 298.558-59.452 0-114.68-17.219-161.137-47.106 8.447.974 16.568 1.299 25.34 1.299 49.055 0 94.213-16.568 130.274-44.832-46.132-.975-84.792-31.188-98.112-72.772 6.498.974 12.995 1.624 19.818 1.624 9.421 0 18.843-1.3 27.614-3.573-48.081-9.747-84.143-51.98-84.143-102.985v-1.299c13.969 7.797 30.214 12.67 47.431 13.319-28.264-18.843-46.781-51.005-46.781-87.391 0-19.492 5.197-37.36 14.294-52.954 51.655 63.675 129.3 105.258 216.365 109.807-1.624-7.797-2.599-15.918-2.599-24.04 0-57.828 46.782-104.934 104.934-104.934 30.213 0 57.502 12.67 76.67 33.137 23.715-4.548 46.456-13.32 66.599-25.34-7.798 24.366-24.366 44.833-46.132 57.827 21.117-2.273 41.584-8.122 60.426-16.243-14.292 20.791-32.161 39.308-52.628 54.253z\" fill=\"currentColor\"></path></svg></a></li>,\n",
       " <li><a class=\"flex items-center justify-center gap-2 font-sans font-semibold relative box-border outline-none before:outline-offset-2 before:outline-2 before:focus-visible:outline appearance-none before:transition before:duration-200 before:absolute before:inset-0 before:z-[-1] z-[1] before:rounded-full transition-colors select-none before:border before:outline-primary h-10 min-w-[2.5rem] text-sm cursor-pointer before:bg-white before:border-primary text-primary w-10 before:hover:scale-[1.035] before:hover:drop-shadow before:ease-in-out before:hover:bg-primary-50\" href=\"https://www.youtube.com/channel/UCP7pwTsLeHDrXx10Egm8ooQ\" rel=\"noreferrer noopener\" role=\"button\" target=\"_blank\" title=\"YouTube\"><svg aria-hidden=\"true\" class=\"svg-inline--fa fa-youtube h-5\" data-icon=\"youtube\" data-prefix=\"fab\" focusable=\"false\" role=\"img\" viewbox=\"0 0 576 512\" xmlns=\"http://www.w3.org/2000/svg\"><path d=\"M549.655 124.083c-6.281-23.65-24.787-42.276-48.284-48.597C458.781 64 288 64 288 64S117.22 64 74.629 75.486c-23.497 6.322-42.003 24.947-48.284 48.597-11.412 42.867-11.412 132.305-11.412 132.305s0 89.438 11.412 132.305c6.281 23.65 24.787 41.5 48.284 47.821C117.22 448 288 448 288 448s170.78 0 213.371-11.486c23.497-6.321 42.003-24.171 48.284-47.821 11.412-42.867 11.412-132.305 11.412-132.305s0-89.438-11.412-132.305zm-317.51 213.508V175.185l142.739 81.205-142.739 81.201z\" fill=\"currentColor\"></path></svg></a></li>,\n",
       " <li><a class=\"flex items-center justify-center gap-2 font-sans font-semibold relative box-border outline-none before:outline-offset-2 before:outline-2 before:focus-visible:outline appearance-none before:transition before:duration-200 before:absolute before:inset-0 before:z-[-1] z-[1] before:rounded-full transition-colors select-none before:border before:outline-primary h-10 min-w-[2.5rem] text-sm cursor-pointer before:bg-white before:border-primary text-primary w-10 before:hover:scale-[1.035] before:hover:drop-shadow before:ease-in-out before:hover:bg-primary-50\" href=\"https://www.instagram.com/sharphealthcare\" rel=\"noreferrer noopener\" role=\"button\" target=\"_blank\" title=\"Instagram\"><svg aria-hidden=\"true\" class=\"svg-inline--fa fa-instagram h-5\" data-icon=\"instagram\" data-prefix=\"fab\" focusable=\"false\" role=\"img\" viewbox=\"0 0 448 512\" xmlns=\"http://www.w3.org/2000/svg\"><path d=\"M224.1 141c-63.6 0-114.9 51.3-114.9 114.9s51.3 114.9 114.9 114.9S339 319.5 339 255.9 287.7 141 224.1 141zm0 189.6c-41.1 0-74.7-33.5-74.7-74.7s33.5-74.7 74.7-74.7 74.7 33.5 74.7 74.7-33.6 74.7-74.7 74.7zm146.4-194.3c0 14.9-12 26.8-26.8 26.8-14.9 0-26.8-12-26.8-26.8s12-26.8 26.8-26.8 26.8 12 26.8 26.8zm76.1 27.2c-1.7-35.9-9.9-67.7-36.2-93.9-26.2-26.2-58-34.4-93.9-36.2-37-2.1-147.9-2.1-184.9 0-35.8 1.7-67.6 9.9-93.9 36.1s-34.4 58-36.2 93.9c-2.1 37-2.1 147.9 0 184.9 1.7 35.9 9.9 67.7 36.2 93.9s58 34.4 93.9 36.2c37 2.1 147.9 2.1 184.9 0 35.9-1.7 67.7-9.9 93.9-36.2 26.2-26.2 34.4-58 36.2-93.9 2.1-37 2.1-147.8 0-184.8zM398.8 388c-7.8 19.6-22.9 34.7-42.6 42.6-29.5 11.7-99.5 9-132.1 9s-102.7 2.6-132.1-9c-19.6-7.8-34.7-22.9-42.6-42.6-11.7-29.5-9-99.5-9-132.1s-2.6-102.7 9-132.1c7.8-19.6 22.9-34.7 42.6-42.6 29.5-11.7 99.5-9 132.1-9s102.7-2.6 132.1 9c19.6 7.8 34.7 22.9 42.6 42.6 11.7 29.5 9 99.5 9 132.1s2.7 102.7-9 132.1z\" fill=\"currentColor\"></path></svg></a></li>,\n",
       " <li><a class=\"flex items-center justify-center gap-2 font-sans font-semibold relative box-border outline-none before:outline-offset-2 before:outline-2 before:focus-visible:outline appearance-none before:transition before:duration-200 before:absolute before:inset-0 before:z-[-1] z-[1] before:rounded-full transition-colors select-none before:border before:outline-primary h-10 min-w-[2.5rem] text-sm cursor-pointer before:bg-white before:border-primary text-primary w-10 before:hover:scale-[1.035] before:hover:drop-shadow before:ease-in-out before:hover:bg-primary-50\" href=\"https://www.linkedin.com/company/sharp-healthcare\" rel=\"noreferrer noopener\" role=\"button\" target=\"_blank\" title=\"LinkedIn\"><svg aria-hidden=\"true\" class=\"svg-inline--fa fa-linkedin-in h-5\" data-icon=\"linkedin-in\" data-prefix=\"fab\" focusable=\"false\" role=\"img\" viewbox=\"0 0 448 512\" xmlns=\"http://www.w3.org/2000/svg\"><path d=\"M100.28 448H7.4V148.9h92.88zM53.79 108.1C24.09 108.1 0 83.5 0 53.8a53.79 53.79 0 0 1 107.58 0c0 29.7-24.1 54.3-53.79 54.3zM447.9 448h-92.68V302.4c0-34.7-.7-79.2-48.29-79.2-48.29 0-55.69 37.7-55.69 76.7V448h-92.78V148.9h89.08v40.8h1.3c12.4-23.5 42.69-48.3 87.88-48.3 94 0 111.28 61.9 111.28 142.3V448z\" fill=\"currentColor\"></path></svg></a></li>]"
      ]
     },
     "execution_count": 74,
     "metadata": {},
     "output_type": "execute_result"
    }
   ],
   "source": [
    "# BeautifulSoup(requests.get(t2).text).find_all(\"li\")"
   ]
  },
  {
   "cell_type": "code",
   "execution_count": 153,
   "metadata": {},
   "outputs": [],
   "source": [
    "# import selenium\n",
    "# from selenium import webdriver\n",
    "# from selenium.webdriver.common.keys import Keys\n",
    "# from selenium.webdriver.common.by import By"
   ]
  },
  {
   "cell_type": "code",
   "execution_count": 155,
   "metadata": {},
   "outputs": [],
   "source": [
    "# driver = webdriver.Chrome()\n",
    "# driver.get('https://www.sharp.com/search/doctors?appointment_options=Accepting+new+patients&v=1')"
   ]
  },
  {
   "cell_type": "code",
   "execution_count": 96,
   "metadata": {},
   "outputs": [
    {
     "data": {
      "text/plain": [
       "<selenium.webdriver.remote.webelement.WebElement (session=\"578328b568e507acfabce6f7bb74eac3\", element=\"f.8A64D8E281F8C7B707BE4695C0B1E0D2.d.291171EE5A13BABDA14983038145502A.e.316\")>"
      ]
     },
     "execution_count": 96,
     "metadata": {},
     "output_type": "execute_result"
    }
   ],
   "source": [
    "# docs = driver.find_element(By.XPATH, \"/html/body/main/div[2]/div/div[2]/section/ul/li[1]\")\n",
    "# docs"
   ]
  },
  {
   "cell_type": "code",
   "execution_count": 156,
   "metadata": {},
   "outputs": [
    {
     "data": {
      "text/plain": [
       "[<selenium.webdriver.remote.webelement.WebElement (session=\"2ee103f8cfb028782ce5c879f8d0240b\", element=\"f.11FAB48E2217A415EF648F0678D3D183.d.5390D5CF45461F71769B609134F5BB34.e.55\")>,\n",
       " <selenium.webdriver.remote.webelement.WebElement (session=\"2ee103f8cfb028782ce5c879f8d0240b\", element=\"f.11FAB48E2217A415EF648F0678D3D183.d.5390D5CF45461F71769B609134F5BB34.e.273\")>,\n",
       " <selenium.webdriver.remote.webelement.WebElement (session=\"2ee103f8cfb028782ce5c879f8d0240b\", element=\"f.11FAB48E2217A415EF648F0678D3D183.d.5390D5CF45461F71769B609134F5BB34.e.274\")>,\n",
       " <selenium.webdriver.remote.webelement.WebElement (session=\"2ee103f8cfb028782ce5c879f8d0240b\", element=\"f.11FAB48E2217A415EF648F0678D3D183.d.5390D5CF45461F71769B609134F5BB34.e.275\")>,\n",
       " <selenium.webdriver.remote.webelement.WebElement (session=\"2ee103f8cfb028782ce5c879f8d0240b\", element=\"f.11FAB48E2217A415EF648F0678D3D183.d.5390D5CF45461F71769B609134F5BB34.e.276\")>,\n",
       " <selenium.webdriver.remote.webelement.WebElement (session=\"2ee103f8cfb028782ce5c879f8d0240b\", element=\"f.11FAB48E2217A415EF648F0678D3D183.d.5390D5CF45461F71769B609134F5BB34.e.277\")>,\n",
       " <selenium.webdriver.remote.webelement.WebElement (session=\"2ee103f8cfb028782ce5c879f8d0240b\", element=\"f.11FAB48E2217A415EF648F0678D3D183.d.5390D5CF45461F71769B609134F5BB34.e.278\")>,\n",
       " <selenium.webdriver.remote.webelement.WebElement (session=\"2ee103f8cfb028782ce5c879f8d0240b\", element=\"f.11FAB48E2217A415EF648F0678D3D183.d.5390D5CF45461F71769B609134F5BB34.e.279\")>,\n",
       " <selenium.webdriver.remote.webelement.WebElement (session=\"2ee103f8cfb028782ce5c879f8d0240b\", element=\"f.11FAB48E2217A415EF648F0678D3D183.d.5390D5CF45461F71769B609134F5BB34.e.280\")>,\n",
       " <selenium.webdriver.remote.webelement.WebElement (session=\"2ee103f8cfb028782ce5c879f8d0240b\", element=\"f.11FAB48E2217A415EF648F0678D3D183.d.5390D5CF45461F71769B609134F5BB34.e.281\")>,\n",
       " <selenium.webdriver.remote.webelement.WebElement (session=\"2ee103f8cfb028782ce5c879f8d0240b\", element=\"f.11FAB48E2217A415EF648F0678D3D183.d.5390D5CF45461F71769B609134F5BB34.e.282\")>,\n",
       " <selenium.webdriver.remote.webelement.WebElement (session=\"2ee103f8cfb028782ce5c879f8d0240b\", element=\"f.11FAB48E2217A415EF648F0678D3D183.d.5390D5CF45461F71769B609134F5BB34.e.283\")>,\n",
       " <selenium.webdriver.remote.webelement.WebElement (session=\"2ee103f8cfb028782ce5c879f8d0240b\", element=\"f.11FAB48E2217A415EF648F0678D3D183.d.5390D5CF45461F71769B609134F5BB34.e.284\")>,\n",
       " <selenium.webdriver.remote.webelement.WebElement (session=\"2ee103f8cfb028782ce5c879f8d0240b\", element=\"f.11FAB48E2217A415EF648F0678D3D183.d.5390D5CF45461F71769B609134F5BB34.e.285\")>,\n",
       " <selenium.webdriver.remote.webelement.WebElement (session=\"2ee103f8cfb028782ce5c879f8d0240b\", element=\"f.11FAB48E2217A415EF648F0678D3D183.d.5390D5CF45461F71769B609134F5BB34.e.286\")>]"
      ]
     },
     "execution_count": 156,
     "metadata": {},
     "output_type": "execute_result"
    }
   ],
   "source": [
    "# li_list = []\n",
    "# counter = 1\n",
    "# while True:\n",
    "#     try:\n",
    "#         li_list.append(driver.find_element(By.XPATH, f'/html/body/main/div[2]/div/div[2]/section/ul/li[{counter}]'))\n",
    "#         counter += 1\n",
    "#     except:\n",
    "#         break\n",
    "# li_list\n"
   ]
  },
  {
   "cell_type": "code",
   "execution_count": 120,
   "metadata": {},
   "outputs": [
    {
     "name": "stdout",
     "output_type": "stream",
     "text": [
      "J. Deryl Adderson, MD\n",
      "Robin Crabtree, NP\n",
      "Kassandra Neuendorff, PA, PA-C\n",
      "Frank Yoo, MD\n",
      "Daniel Burgess, DO\n",
      "Matthew Schultzel, DO\n",
      "Harper Smith, PA, PA-C\n",
      "Naing Kyaw, MD\n",
      "Mona Mofid, MD\n",
      "Moneer Jaibaji, MD\n",
      "Damion Valletta, DO\n",
      "Michael Bogard, DO\n",
      "John Otis, MD\n",
      "Gavin Kolodge, DO\n",
      "George Mueller, MD\n"
     ]
    }
   ],
   "source": [
    "# for i in range(len(li_list)):\n",
    "#     print(li_list[i].find_element(By.XPATH, f'/html/body/main/div[2]/div/div[2]/section/ul/li[{i + 1}]/div/div[2]/div[1]/h2/a').get_property('innerText'))"
   ]
  },
  {
   "cell_type": "code",
   "execution_count": null,
   "metadata": {},
   "outputs": [],
   "source": [
    "#'/html/body/main/div[2]/div/div[2]/section/ul/li[1]/div/div[2]/div[1]/h2/a'"
   ]
  },
  {
   "cell_type": "code",
   "execution_count": 33,
   "metadata": {},
   "outputs": [],
   "source": [
    "import pandas as pd\n",
    "from selenium import webdriver\n",
    "from selenium.webdriver.common.keys import Keys\n",
    "from selenium.webdriver.common.by import By\n",
    "from selenium.webdriver import ActionChains\n",
    "import time\n",
    "import requests\n",
    "from bs4 import BeautifulSoup\n",
    "import re"
   ]
  },
  {
   "cell_type": "code",
   "execution_count": 48,
   "metadata": {},
   "outputs": [],
   "source": [
    "med_professionals = pd.DataFrame(columns=['Name', 'Location', 'Specialty', 'Picture', 'Phone Number', 'Rating'])"
   ]
  },
  {
   "cell_type": "code",
   "execution_count": 35,
   "metadata": {},
   "outputs": [],
   "source": [
    "driver = webdriver.Chrome()\n",
    "driver.get('https://www.sharp.com/search/doctors?appointment_options=Accepting+new+patients&v=1')"
   ]
  },
  {
   "cell_type": "code",
   "execution_count": 49,
   "metadata": {},
   "outputs": [],
   "source": [
    "total_pages = 67"
   ]
  },
  {
   "cell_type": "code",
   "execution_count": 52,
   "metadata": {},
   "outputs": [
    {
     "ename": "NoSuchElementException",
     "evalue": "Message: no such element: Unable to locate element: {\"method\":\"xpath\",\"selector\":\"/html/body/main/div[2]/div/div[2]/section/ul/li[11]\"}\n  (Session info: chrome=129.0.6668.103); For documentation on this error, please visit: https://www.selenium.dev/documentation/webdriver/troubleshooting/errors#no-such-element-exception\nStacktrace:\n\tGetHandleVerifier [0x00007FF71E90B095+29557]\n\t(No symbol) [0x00007FF71E87FA50]\n\t(No symbol) [0x00007FF71E73B56A]\n\t(No symbol) [0x00007FF71E78F695]\n\t(No symbol) [0x00007FF71E78F8EC]\n\t(No symbol) [0x00007FF71E7DB777]\n\t(No symbol) [0x00007FF71E7B71CF]\n\t(No symbol) [0x00007FF71E7D851C]\n\t(No symbol) [0x00007FF71E7B6F33]\n\t(No symbol) [0x00007FF71E78116F]\n\t(No symbol) [0x00007FF71E7822D1]\n\tGetHandleVerifier [0x00007FF71EC3C96D+3378253]\n\tGetHandleVerifier [0x00007FF71EC88497+3688311]\n\tGetHandleVerifier [0x00007FF71EC7D1CB+3642539]\n\tGetHandleVerifier [0x00007FF71E9CA6B6+813462]\n\t(No symbol) [0x00007FF71E88AB5F]\n\t(No symbol) [0x00007FF71E886B74]\n\t(No symbol) [0x00007FF71E886D10]\n\t(No symbol) [0x00007FF71E875C1F]\n\tBaseThreadInitThunk [0x00007FF84AA7257D+29]\n\tRtlUserThreadStart [0x00007FF84BF6AF08+40]\n",
     "output_type": "error",
     "traceback": [
      "\u001b[1;31m---------------------------------------------------------------------------\u001b[0m",
      "\u001b[1;31mNoSuchElementException\u001b[0m                    Traceback (most recent call last)",
      "Cell \u001b[1;32mIn[52], line 12\u001b[0m\n\u001b[0;32m     10\u001b[0m \u001b[38;5;28;01mwhile\u001b[39;00m page_counter \u001b[38;5;241m<\u001b[39m\u001b[38;5;241m=\u001b[39m total_pages:\n\u001b[0;32m     11\u001b[0m     \u001b[38;5;28;01mwhile\u001b[39;00m med_prof_counter \u001b[38;5;241m<\u001b[39m \u001b[38;5;241m16\u001b[39m:\n\u001b[1;32m---> 12\u001b[0m             li \u001b[38;5;241m=\u001b[39m \u001b[43mdriver\u001b[49m\u001b[38;5;241;43m.\u001b[39;49m\u001b[43mfind_element\u001b[49m\u001b[43m(\u001b[49m\u001b[43mBy\u001b[49m\u001b[38;5;241;43m.\u001b[39;49m\u001b[43mXPATH\u001b[49m\u001b[43m,\u001b[49m\u001b[43m \u001b[49m\u001b[38;5;124;43mf\u001b[39;49m\u001b[38;5;124;43m'\u001b[39;49m\u001b[38;5;124;43m/html/body/main/div[2]/div/div[2]/section/ul/li[\u001b[39;49m\u001b[38;5;132;43;01m{\u001b[39;49;00m\u001b[43mmed_prof_counter\u001b[49m\u001b[38;5;132;43;01m}\u001b[39;49;00m\u001b[38;5;124;43m]\u001b[39;49m\u001b[38;5;124;43m'\u001b[39;49m\u001b[43m)\u001b[49m\n\u001b[0;32m     13\u001b[0m             li_list\u001b[38;5;241m.\u001b[39mappend(li)\n\u001b[0;32m     14\u001b[0m             \u001b[38;5;28;01mtry\u001b[39;00m:\n",
      "File \u001b[1;32m~\\AppData\\Local\\Packages\\PythonSoftwareFoundation.Python.3.10_qbz5n2kfra8p0\\LocalCache\\local-packages\\Python310\\site-packages\\selenium\\webdriver\\remote\\webdriver.py:741\u001b[0m, in \u001b[0;36mWebDriver.find_element\u001b[1;34m(self, by, value)\u001b[0m\n\u001b[0;32m    738\u001b[0m     by \u001b[38;5;241m=\u001b[39m By\u001b[38;5;241m.\u001b[39mCSS_SELECTOR\n\u001b[0;32m    739\u001b[0m     value \u001b[38;5;241m=\u001b[39m \u001b[38;5;124mf\u001b[39m\u001b[38;5;124m'\u001b[39m\u001b[38;5;124m[name=\u001b[39m\u001b[38;5;124m\"\u001b[39m\u001b[38;5;132;01m{\u001b[39;00mvalue\u001b[38;5;132;01m}\u001b[39;00m\u001b[38;5;124m\"\u001b[39m\u001b[38;5;124m]\u001b[39m\u001b[38;5;124m'\u001b[39m\n\u001b[1;32m--> 741\u001b[0m \u001b[38;5;28;01mreturn\u001b[39;00m \u001b[38;5;28;43mself\u001b[39;49m\u001b[38;5;241;43m.\u001b[39;49m\u001b[43mexecute\u001b[49m\u001b[43m(\u001b[49m\u001b[43mCommand\u001b[49m\u001b[38;5;241;43m.\u001b[39;49m\u001b[43mFIND_ELEMENT\u001b[49m\u001b[43m,\u001b[49m\u001b[43m \u001b[49m\u001b[43m{\u001b[49m\u001b[38;5;124;43m\"\u001b[39;49m\u001b[38;5;124;43musing\u001b[39;49m\u001b[38;5;124;43m\"\u001b[39;49m\u001b[43m:\u001b[49m\u001b[43m \u001b[49m\u001b[43mby\u001b[49m\u001b[43m,\u001b[49m\u001b[43m \u001b[49m\u001b[38;5;124;43m\"\u001b[39;49m\u001b[38;5;124;43mvalue\u001b[39;49m\u001b[38;5;124;43m\"\u001b[39;49m\u001b[43m:\u001b[49m\u001b[43m \u001b[49m\u001b[43mvalue\u001b[49m\u001b[43m}\u001b[49m\u001b[43m)\u001b[49m[\u001b[38;5;124m\"\u001b[39m\u001b[38;5;124mvalue\u001b[39m\u001b[38;5;124m\"\u001b[39m]\n",
      "File \u001b[1;32m~\\AppData\\Local\\Packages\\PythonSoftwareFoundation.Python.3.10_qbz5n2kfra8p0\\LocalCache\\local-packages\\Python310\\site-packages\\selenium\\webdriver\\remote\\webdriver.py:347\u001b[0m, in \u001b[0;36mWebDriver.execute\u001b[1;34m(self, driver_command, params)\u001b[0m\n\u001b[0;32m    345\u001b[0m response \u001b[38;5;241m=\u001b[39m \u001b[38;5;28mself\u001b[39m\u001b[38;5;241m.\u001b[39mcommand_executor\u001b[38;5;241m.\u001b[39mexecute(driver_command, params)\n\u001b[0;32m    346\u001b[0m \u001b[38;5;28;01mif\u001b[39;00m response:\n\u001b[1;32m--> 347\u001b[0m     \u001b[38;5;28;43mself\u001b[39;49m\u001b[38;5;241;43m.\u001b[39;49m\u001b[43merror_handler\u001b[49m\u001b[38;5;241;43m.\u001b[39;49m\u001b[43mcheck_response\u001b[49m\u001b[43m(\u001b[49m\u001b[43mresponse\u001b[49m\u001b[43m)\u001b[49m\n\u001b[0;32m    348\u001b[0m     response[\u001b[38;5;124m\"\u001b[39m\u001b[38;5;124mvalue\u001b[39m\u001b[38;5;124m\"\u001b[39m] \u001b[38;5;241m=\u001b[39m \u001b[38;5;28mself\u001b[39m\u001b[38;5;241m.\u001b[39m_unwrap_value(response\u001b[38;5;241m.\u001b[39mget(\u001b[38;5;124m\"\u001b[39m\u001b[38;5;124mvalue\u001b[39m\u001b[38;5;124m\"\u001b[39m, \u001b[38;5;28;01mNone\u001b[39;00m))\n\u001b[0;32m    349\u001b[0m     \u001b[38;5;28;01mreturn\u001b[39;00m response\n",
      "File \u001b[1;32m~\\AppData\\Local\\Packages\\PythonSoftwareFoundation.Python.3.10_qbz5n2kfra8p0\\LocalCache\\local-packages\\Python310\\site-packages\\selenium\\webdriver\\remote\\errorhandler.py:229\u001b[0m, in \u001b[0;36mErrorHandler.check_response\u001b[1;34m(self, response)\u001b[0m\n\u001b[0;32m    227\u001b[0m         alert_text \u001b[38;5;241m=\u001b[39m value[\u001b[38;5;124m\"\u001b[39m\u001b[38;5;124malert\u001b[39m\u001b[38;5;124m\"\u001b[39m]\u001b[38;5;241m.\u001b[39mget(\u001b[38;5;124m\"\u001b[39m\u001b[38;5;124mtext\u001b[39m\u001b[38;5;124m\"\u001b[39m)\n\u001b[0;32m    228\u001b[0m     \u001b[38;5;28;01mraise\u001b[39;00m exception_class(message, screen, stacktrace, alert_text)  \u001b[38;5;66;03m# type: ignore[call-arg]  # mypy is not smart enough here\u001b[39;00m\n\u001b[1;32m--> 229\u001b[0m \u001b[38;5;28;01mraise\u001b[39;00m exception_class(message, screen, stacktrace)\n",
      "\u001b[1;31mNoSuchElementException\u001b[0m: Message: no such element: Unable to locate element: {\"method\":\"xpath\",\"selector\":\"/html/body/main/div[2]/div/div[2]/section/ul/li[11]\"}\n  (Session info: chrome=129.0.6668.103); For documentation on this error, please visit: https://www.selenium.dev/documentation/webdriver/troubleshooting/errors#no-such-element-exception\nStacktrace:\n\tGetHandleVerifier [0x00007FF71E90B095+29557]\n\t(No symbol) [0x00007FF71E87FA50]\n\t(No symbol) [0x00007FF71E73B56A]\n\t(No symbol) [0x00007FF71E78F695]\n\t(No symbol) [0x00007FF71E78F8EC]\n\t(No symbol) [0x00007FF71E7DB777]\n\t(No symbol) [0x00007FF71E7B71CF]\n\t(No symbol) [0x00007FF71E7D851C]\n\t(No symbol) [0x00007FF71E7B6F33]\n\t(No symbol) [0x00007FF71E78116F]\n\t(No symbol) [0x00007FF71E7822D1]\n\tGetHandleVerifier [0x00007FF71EC3C96D+3378253]\n\tGetHandleVerifier [0x00007FF71EC88497+3688311]\n\tGetHandleVerifier [0x00007FF71EC7D1CB+3642539]\n\tGetHandleVerifier [0x00007FF71E9CA6B6+813462]\n\t(No symbol) [0x00007FF71E88AB5F]\n\t(No symbol) [0x00007FF71E886B74]\n\t(No symbol) [0x00007FF71E886D10]\n\t(No symbol) [0x00007FF71E875C1F]\n\tBaseThreadInitThunk [0x00007FF84AA7257D+29]\n\tRtlUserThreadStart [0x00007FF84BF6AF08+40]\n"
     ]
    }
   ],
   "source": [
    "li_list = []\n",
    "names = []\n",
    "specialties = []\n",
    "locations = []\n",
    "ratings = []\n",
    "pictures = []\n",
    "\n",
    "page_counter = 1\n",
    "med_prof_counter = 1\n",
    "while page_counter <= total_pages:\n",
    "    while med_prof_counter < 16:\n",
    "            li = driver.find_element(By.XPATH, f'/html/body/main/div[2]/div/div[2]/section/ul/li[{med_prof_counter}]')\n",
    "            li_list.append(li)\n",
    "            try:\n",
    "                name = li.find_elements(By.CSS_SELECTOR, \"h2[class = 'text-lg font-semibold']\")[0].get_property(\"innerText\")\n",
    "            except:\n",
    "                name = ''\n",
    "            try:\n",
    "                specialty = [doc.get_property('innerText') for doc in driver.find_elements(By.XPATH, f'/html/body/main/div[2]/div/div[2]/section/ul/li[{med_prof_counter}]/div/div[2]/div[2]/div[1]/div[1]/div/h5')]\n",
    "            except:\n",
    "                specialty = []\n",
    "            \n",
    "            person_page_name = name.split(',')[0].replace(\" \", \"-\").lower()\n",
    "            personal_page = requests.get(driver.find_element(By.XPATH, f'/html/body/main/div[2]/div/div[2]/section/ul/li[{med_prof_counter}]/div/div[2]/div[1]/h2/a').get_attribute('href')).text\n",
    "            individual_locations = []\n",
    "            try:\n",
    "                for loc in BeautifulSoup(personal_page).find_all('li', attrs={'class': 'flex flex-col justify-between md:flex-row gap-5 md:items-center'}):\n",
    "                    location_plus_bullshit = loc.find_all('div', attrs={'class': 'text-base font-medium'})[0].get_text(separator = '*')\n",
    "                    individual_locations.append(location_plus_bullshit.split(\"*\")[0])\n",
    "                location = individual_locations\n",
    "            except:\n",
    "                location = []\n",
    "            if \"No ratings available\" in personal_page:\n",
    "                rating = None\n",
    "            else:\n",
    "                rating = BeautifulSoup(personal_page).find('p', attrs={'class': 'text-base font-semibold'}).get_text()\n",
    "            try:\n",
    "                picture = BeautifulSoup(personal_page).find('source', attrs={'type': 'image/webp'}).get('srcset').split(\"\\n\")[1].strip().split(' ')[0]\n",
    "            except:\n",
    "                 picture = ''\n",
    "            try:\n",
    "                potential_nums = [int(re.sub('[^0-9]', '', phone_num)) for phone_num in re.findall('<a href=\"tel:\\+[0-9]+', personal_page)]\n",
    "                phone_num = list(filter(lambda x: x != 18008274277, potential_nums))\n",
    "            except:\n",
    "                phone_num = []\n",
    "            med_professionals.loc[med_professionals.shape[0]] = [name, location, specialty, picture, phone_num, rating]\n",
    "            med_prof_counter += 1\n",
    "    ActionChains(driver).click(driver.find_element(By.XPATH, '/html/body/main/div[2]/div/div[2]/div[2]/button[9]')).perform()\n",
    "    # time.sleep(1)\n",
    "    page_counter += 1\n",
    "    med_prof_counter = 1"
   ]
  },
  {
   "cell_type": "code",
   "execution_count": 310,
   "metadata": {},
   "outputs": [],
   "source": [
    "med_professionals.to_json(\"sharp_medical_professionals.json\")\n",
    "med_professionals.to_csv(\"sharp_medical_professionals.csv\")"
   ]
  },
  {
   "cell_type": "code",
   "execution_count": null,
   "metadata": {},
   "outputs": [],
   "source": []
  },
  {
   "cell_type": "code",
   "execution_count": 301,
   "metadata": {},
   "outputs": [
    {
     "data": {
      "text/html": [
       "<div>\n",
       "<style scoped>\n",
       "    .dataframe tbody tr th:only-of-type {\n",
       "        vertical-align: middle;\n",
       "    }\n",
       "\n",
       "    .dataframe tbody tr th {\n",
       "        vertical-align: top;\n",
       "    }\n",
       "\n",
       "    .dataframe thead th {\n",
       "        text-align: right;\n",
       "    }\n",
       "</style>\n",
       "<table border=\"1\" class=\"dataframe\">\n",
       "  <thead>\n",
       "    <tr style=\"text-align: right;\">\n",
       "      <th></th>\n",
       "      <th>Name</th>\n",
       "      <th>Location</th>\n",
       "      <th>Specialty</th>\n",
       "      <th>Picture</th>\n",
       "    </tr>\n",
       "  </thead>\n",
       "  <tbody>\n",
       "    <tr>\n",
       "      <th>0</th>\n",
       "      <td>Frank Yoo, MD</td>\n",
       "      <td>[4150 Regents Park Row]</td>\n",
       "      <td>[Neurological surgery]</td>\n",
       "      <td>https://images.ctfassets.net/pxcfulgsd9e2/4vtf...</td>\n",
       "    </tr>\n",
       "    <tr>\n",
       "      <th>1</th>\n",
       "      <td>Daniel Burgess, DO</td>\n",
       "      <td>[477 N El Camino Real, 4150 Regents Park Row]</td>\n",
       "      <td>[General surgery]</td>\n",
       "      <td>https://images.ctfassets.net/pxcfulgsd9e2/4vtf...</td>\n",
       "    </tr>\n",
       "    <tr>\n",
       "      <th>2</th>\n",
       "      <td>Matthew Schultzel, DO</td>\n",
       "      <td>[4150 Regents Park Row, 477 N El Camino Real]</td>\n",
       "      <td>[Colon and rectal surgery, General surgery]</td>\n",
       "      <td>https://images.ctfassets.net/pxcfulgsd9e2/35gY...</td>\n",
       "    </tr>\n",
       "    <tr>\n",
       "      <th>3</th>\n",
       "      <td>Naing Kyaw, MD</td>\n",
       "      <td>[4225 Executive Square, 3300 Vista Way]</td>\n",
       "      <td>[Nephrology]</td>\n",
       "      <td>https://images.ctfassets.net/pxcfulgsd9e2/4vtf...</td>\n",
       "    </tr>\n",
       "    <tr>\n",
       "      <th>4</th>\n",
       "      <td>Mona Mofid, MD</td>\n",
       "      <td>[8929 University Center Lane, 1001 B Ave.]</td>\n",
       "      <td>[Dermatology]</td>\n",
       "      <td>https://images.ctfassets.net/pxcfulgsd9e2/22dz...</td>\n",
       "    </tr>\n",
       "    <tr>\n",
       "      <th>...</th>\n",
       "      <td>...</td>\n",
       "      <td>...</td>\n",
       "      <td>...</td>\n",
       "      <td>...</td>\n",
       "    </tr>\n",
       "    <tr>\n",
       "      <th>995</th>\n",
       "      <td>Roberto Gratianne, MD</td>\n",
       "      <td>[450 4th Ave]</td>\n",
       "      <td>[Neurology]</td>\n",
       "      <td>https://images.ctfassets.net/pxcfulgsd9e2/1eZt...</td>\n",
       "    </tr>\n",
       "    <tr>\n",
       "      <th>996</th>\n",
       "      <td>Fariba Farhidvash, MD</td>\n",
       "      <td>[450 4th Ave, 44045 Margarita Rd]</td>\n",
       "      <td>[Neurology]</td>\n",
       "      <td>https://images.ctfassets.net/pxcfulgsd9e2/4vtf...</td>\n",
       "    </tr>\n",
       "    <tr>\n",
       "      <th>997</th>\n",
       "      <td>Brent Silver, MD</td>\n",
       "      <td>[450 4th Ave, 838 Nordahl Road]</td>\n",
       "      <td>[Neurology]</td>\n",
       "      <td>https://images.ctfassets.net/pxcfulgsd9e2/4vtf...</td>\n",
       "    </tr>\n",
       "    <tr>\n",
       "      <th>998</th>\n",
       "      <td>Branko Huisa-Garate, MD</td>\n",
       "      <td>[450 4th Ave, 44045 Margarita Rd]</td>\n",
       "      <td>[Neurology]</td>\n",
       "      <td>https://images.ctfassets.net/pxcfulgsd9e2/4vtf...</td>\n",
       "    </tr>\n",
       "    <tr>\n",
       "      <th>999</th>\n",
       "      <td>Jose Soria-Lopez, MD</td>\n",
       "      <td>[]</td>\n",
       "      <td>[Neurology]</td>\n",
       "      <td>https://images.ctfassets.net/pxcfulgsd9e2/4vtf...</td>\n",
       "    </tr>\n",
       "  </tbody>\n",
       "</table>\n",
       "<p>1000 rows × 4 columns</p>\n",
       "</div>"
      ],
      "text/plain": [
       "                        Name                                       Location  \\\n",
       "0              Frank Yoo, MD                        [4150 Regents Park Row]   \n",
       "1         Daniel Burgess, DO  [477 N El Camino Real, 4150 Regents Park Row]   \n",
       "2      Matthew Schultzel, DO  [4150 Regents Park Row, 477 N El Camino Real]   \n",
       "3             Naing Kyaw, MD        [4225 Executive Square, 3300 Vista Way]   \n",
       "4             Mona Mofid, MD     [8929 University Center Lane, 1001 B Ave.]   \n",
       "..                       ...                                            ...   \n",
       "995    Roberto Gratianne, MD                                  [450 4th Ave]   \n",
       "996    Fariba Farhidvash, MD              [450 4th Ave, 44045 Margarita Rd]   \n",
       "997         Brent Silver, MD                [450 4th Ave, 838 Nordahl Road]   \n",
       "998  Branko Huisa-Garate, MD              [450 4th Ave, 44045 Margarita Rd]   \n",
       "999     Jose Soria-Lopez, MD                                             []   \n",
       "\n",
       "                                       Specialty  \\\n",
       "0                         [Neurological surgery]   \n",
       "1                              [General surgery]   \n",
       "2    [Colon and rectal surgery, General surgery]   \n",
       "3                                   [Nephrology]   \n",
       "4                                  [Dermatology]   \n",
       "..                                           ...   \n",
       "995                                  [Neurology]   \n",
       "996                                  [Neurology]   \n",
       "997                                  [Neurology]   \n",
       "998                                  [Neurology]   \n",
       "999                                  [Neurology]   \n",
       "\n",
       "                                               Picture  \n",
       "0    https://images.ctfassets.net/pxcfulgsd9e2/4vtf...  \n",
       "1    https://images.ctfassets.net/pxcfulgsd9e2/4vtf...  \n",
       "2    https://images.ctfassets.net/pxcfulgsd9e2/35gY...  \n",
       "3    https://images.ctfassets.net/pxcfulgsd9e2/4vtf...  \n",
       "4    https://images.ctfassets.net/pxcfulgsd9e2/22dz...  \n",
       "..                                                 ...  \n",
       "995  https://images.ctfassets.net/pxcfulgsd9e2/1eZt...  \n",
       "996  https://images.ctfassets.net/pxcfulgsd9e2/4vtf...  \n",
       "997  https://images.ctfassets.net/pxcfulgsd9e2/4vtf...  \n",
       "998  https://images.ctfassets.net/pxcfulgsd9e2/4vtf...  \n",
       "999  https://images.ctfassets.net/pxcfulgsd9e2/4vtf...  \n",
       "\n",
       "[1000 rows x 4 columns]"
      ]
     },
     "execution_count": 301,
     "metadata": {},
     "output_type": "execute_result"
    }
   ],
   "source": [
    "# no_redundancies = med_professionals.groupby(\"Name\").nth(0)\n",
    "# no_redundancies.index = index = range(1000)\n",
    "# no_redundancies"
   ]
  },
  {
   "cell_type": "code",
   "execution_count": 18,
   "metadata": {},
   "outputs": [],
   "source": [
    "#driver.find_element(By.XPATH, '/html/body/main/div[2]/div/div[2]/div[2]/button[3]').click()\n",
    "# ActionChains(driver).click(driver.find_element(By.XPATH, '/html/body/main/div[2]/div/div[2]/div[2]/button[9]')).perform()\n"
   ]
  },
  {
   "cell_type": "code",
   "execution_count": 73,
   "metadata": {},
   "outputs": [
    {
     "data": {
      "text/plain": [
       "'Jane Goodwin, OD'"
      ]
     },
     "execution_count": 73,
     "metadata": {},
     "output_type": "execute_result"
    }
   ],
   "source": [
    "# elem = driver.find_element(By.XPATH, f'/html/body/main/div[2]/div/div[2]/section/ul/li[15]')\n",
    "# #li.find_element(By.XPATH, f'/html/body/main/div[2]/div/div[2]/section/ul/li[1]/div/div[1]/div/h2/a').get_property('innerText')\n",
    "# elem.find_elements(By.CSS_SELECTOR, \"h2[class = 'text-lg font-semibold']\")[0].get_property(\"innerText\")\n"
   ]
  },
  {
   "cell_type": "code",
   "execution_count": 191,
   "metadata": {},
   "outputs": [
    {
     "data": {
      "text/plain": [
       "'477 N El Camino Real*Suite C204*Encinitas, CA 92024*Get directions'"
      ]
     },
     "execution_count": 191,
     "metadata": {},
     "output_type": "execute_result"
    }
   ],
   "source": [
    "# deryl = requests.get('https://www.sharp.com/doctors/matthew-schultzel').text\n",
    "# BeautifulSoup(deryl).find_all('li', attrs={'class': 'flex flex-col justify-between md:flex-row gap-5 md:items-center'})[1].find_all('div', attrs={'class': 'text-base font-medium'})[0].get_text(separator = '*')"
   ]
  },
  {
   "cell_type": "code",
   "execution_count": 138,
   "metadata": {},
   "outputs": [
    {
     "data": {
      "text/plain": [
       "['General surgery']"
      ]
     },
     "execution_count": 138,
     "metadata": {},
     "output_type": "execute_result"
    }
   ],
   "source": [
    "# [el.get_property('innerText') for el in driver.find_elements(By.XPATH, '/html/body/main/div[2]/div/div[2]/section/ul/li[7]/div/div[2]/div[2]/div[1]/div[1]/div/h5')]"
   ]
  },
  {
   "cell_type": "code",
   "execution_count": 165,
   "metadata": {},
   "outputs": [
    {
     "data": {
      "text/plain": [
       "[]"
      ]
     },
     "execution_count": 165,
     "metadata": {},
     "output_type": "execute_result"
    }
   ],
   "source": [
    "# driver.find_element(By.XPATH, f'/html/body/main/div[2]/div/div[2]/section/ul/li[{10}]').find_elements(By.CSS_SELECTOR, 'p')"
   ]
  },
  {
   "cell_type": "code",
   "execution_count": 171,
   "metadata": {},
   "outputs": [
    {
     "data": {
      "text/plain": [
       "'Appointments Available'"
      ]
     },
     "execution_count": 171,
     "metadata": {},
     "output_type": "execute_result"
    }
   ],
   "source": [
    "# driver.find_element(By.XPATH, f'/html/body/main/div[2]/div/div[2]/section/ul/li[{1}]').find_elements(By.CSS_SELECTOR, 'h5')[1].get_property('innerText')"
   ]
  },
  {
   "cell_type": "code",
   "execution_count": 176,
   "metadata": {},
   "outputs": [
    {
     "data": {
      "text/plain": [
       "['Family medicine']"
      ]
     },
     "execution_count": 176,
     "metadata": {},
     "output_type": "execute_result"
    }
   ],
   "source": [
    "# [doc.get_property('innerText') for doc in driver.find_elements(By.XPATH, '/html/body/main/div[2]/div/div[2]/section/ul/li[3]/div/div[2]/div[2]/div[1]/div[1]/div/h5')]"
   ]
  },
  {
   "cell_type": "code",
   "execution_count": 226,
   "metadata": {},
   "outputs": [
    {
     "data": {
      "text/plain": [
       "'https://images.ctfassets.net/pxcfulgsd9e2/5Ol5rd2RxXtiM3A6T1Z0gu/9155000d3d20fc660026e6771cd1b2b9/adderson_deryl_51665_2015.jpg?f=face&fit=fill&fm=webp&h=2792&q=35&w=2792'"
      ]
     },
     "execution_count": 226,
     "metadata": {},
     "output_type": "execute_result"
    }
   ],
   "source": [
    "# deryl = requests.get('https://www.sharp.com/doctors/j-deryl-adderson').text\n",
    "# BeautifulSoup(deryl).find('source', attrs={'type': 'image/webp'}).get('srcset').split(\"\\n\")[1].strip().split(' ')[0]"
   ]
  },
  {
   "cell_type": "code",
   "execution_count": 241,
   "metadata": {},
   "outputs": [
    {
     "data": {
      "text/plain": [
       "4"
      ]
     },
     "execution_count": 241,
     "metadata": {},
     "output_type": "execute_result"
    }
   ],
   "source": [
    "# test = [1, 2, 3]\n",
    "# test.append(None)\n",
    "# len(test)"
   ]
  },
  {
   "cell_type": "code",
   "execution_count": 305,
   "metadata": {},
   "outputs": [
    {
     "data": {
      "text/plain": [
       "'https://www.sharp.com/doctors/frank-yoo'"
      ]
     },
     "execution_count": 305,
     "metadata": {},
     "output_type": "execute_result"
    }
   ],
   "source": [
    "# driver.find_element(By.XPATH, '/html/body/main/div[2]/div/div[2]/section/ul/li[1]/div/div[2]/div[1]/h2/a').get_attribute('href')"
   ]
  },
  {
   "cell_type": "code",
   "execution_count": 30,
   "metadata": {},
   "outputs": [],
   "source": [
    "frank = requests.get('https://www.sharp.com/doctors/marshall-kong').text"
   ]
  },
  {
   "cell_type": "code",
   "execution_count": 7,
   "metadata": {},
   "outputs": [],
   "source": [
    "import re"
   ]
  },
  {
   "cell_type": "code",
   "execution_count": 19,
   "metadata": {},
   "outputs": [
    {
     "data": {
      "text/plain": [
       "'18008274277'"
      ]
     },
     "execution_count": 19,
     "metadata": {},
     "output_type": "execute_result"
    }
   ],
   "source": [
    "re.sub('[^0-9]', '', re.findall('<a href=\"tel:\\+[0-9]+', frank)[2])"
   ]
  },
  {
   "cell_type": "code",
   "execution_count": 31,
   "metadata": {},
   "outputs": [],
   "source": [
    "potential_nums = [int(re.sub('[^0-9]', '', phone_num)) for phone_num in re.findall('<a href=\"tel:\\+[0-9]+', frank)]"
   ]
  },
  {
   "cell_type": "code",
   "execution_count": 32,
   "metadata": {},
   "outputs": [
    {
     "data": {
      "text/plain": [
       "[]"
      ]
     },
     "execution_count": 32,
     "metadata": {},
     "output_type": "execute_result"
    }
   ],
   "source": [
    "list(filter(lambda x: x != 18008274277, potential_nums))"
   ]
  }
 ],
 "metadata": {
  "kernelspec": {
   "display_name": "Python 3",
   "language": "python",
   "name": "python3"
  },
  "language_info": {
   "codemirror_mode": {
    "name": "ipython",
    "version": 3
   },
   "file_extension": ".py",
   "mimetype": "text/x-python",
   "name": "python",
   "nbconvert_exporter": "python",
   "pygments_lexer": "ipython3",
   "version": "3.10.11"
  }
 },
 "nbformat": 4,
 "nbformat_minor": 2
}
